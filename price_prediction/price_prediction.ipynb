{
 "cells": [
  {
   "cell_type": "markdown",
   "metadata": {},
   "source": [
    "<h1>Содержание<span class=\"tocSkip\"></span></h1>\n",
    "<div class=\"toc\">\n",
    "    <ul class=\"toc-item\">\n",
    "        <li>\n",
    "            <span>\n",
    "                <a href=\"#Подготовка-данных\" data-toc-modified-id=\"Подготовка-данных-1\">\n",
    "                    <span class=\"toc-item-num\">1&nbsp;&nbsp;</span>Подготовка данных</a></span>\n",
    "            <ul class=\"toc-item\"><li><span><a href=\"#Импорт\" data-toc-modified-id=\"Импорт-1.1\">\n",
    "                <span class=\"toc-item-num\">1.1&nbsp;&nbsp;</span>Импорт</a></span></li>\n",
    "                <li><span><a href=\"#Описание\" data-toc-modified-id=\"Описание-1.2\">\n",
    "                    <span class=\"toc-item-num\">1.2&nbsp;&nbsp;</span>Описание</a></span></li>\n",
    "                <li><span><a href=\"#Проверка-аномалий-и-выбросов\" data-toc-modified-id=\"Проверка-аномалий-и-выбросов-1.3\"><span class=\"toc-item-num\">1.3&nbsp;&nbsp;</span>Проверка аномалий и выбросов</a></span></li>\n",
    "                <li><span><a href=\"#Проверка-на-дубликаты\" data-toc-modified-id=\"Проверка-на-дубликаты-1.4\"><span class=\"toc-item-num\">1.4&nbsp;&nbsp;</span>Проверка на дубликаты</a></span></li>\n",
    "                <li><span><a href=\"#Заполенение-пропусков\" data-toc-modified-id=\"Заполенение-пропусков-1.5\"><span class=\"toc-item-num\">1.5&nbsp;&nbsp;</span>Заполнение пропусковk</a></span></li>\n",
    "                <li><span><a href=\"#Проверка-на-мультиколлинеарность\" data-toc-modified-id=\"Проверка-на-мультиколлинеарность-1.6\"><span class=\"toc-item-num\">1.6&nbsp;&nbsp;</span>Проверка на мультиколлинеарность</a></span></li>\n",
    "                <li><span><a href=\"#Стандартизация-признаков\" data-toc-modified-id=\"Стандартизация-признаков-1.7\"><span class=\"toc-item-num\">1.7&nbsp;&nbsp;</span>Стандартизация признаков</a></span></li></ul></li>\n",
    "        <li><span><a href=\"#Обучение-моделей\" data-toc-modified-id=\"Обучение-моделей-2\"><span class=\"toc-item-num\">2&nbsp;&nbsp;</span>Обучение моделей</a></span>\n",
    "            <ul class=\"toc-item\"><li><span><a href=\"#Linear-Regression\" data-toc-modified-id=\"Linear-Regression-2.1\"><span class=\"toc-item-num\">2.1&nbsp;&nbsp;</span>Linear Regression</a></span></li>\n",
    "                <li><span><a href=\"#Ridge-Regression\" data-toc-modified-id=\"Ridge-Regression-2.2\"><span class=\"toc-item-num\">2.2&nbsp;&nbsp;</span>Ridge Regression</a></span></li>\n",
    "                <li><span><a href=\"#Random-Forest-Regression\" data-toc-modified-id=\"Random-Forest-Regression-2.3\"><span class=\"toc-item-num\">2.3&nbsp;&nbsp;</span>Random Forest Regression</a></span></li>\n",
    "                <li><span><a href=\"#LightGBM\" data-toc-modified-id=\"LightGBM-2.4\"><span class=\"toc-item-num\">2.4&nbsp;&nbsp;</span>LightGBM</a></span></li></ul></li>\n",
    "     <li><span><a href=\"#Анализ-моделей\" data-toc-modified-id=\"Анализ-моделей-3\"><span class=\"toc-item-num\">3&nbsp;&nbsp;</span>Анализ моделей</a></span><ul class=\"toc-item\">\n",
    "         <li><span><a href=\"#Сравнение\" data-toc-modified-id=\"Сравнение-3.1\"><span class=\"toc-item-num\">3.1&nbsp;&nbsp;</span>Сравнение</a></span></li>\n",
    "         <li><span><a href=\"#Важность-признаков\" data-toc-modified-id=\"Важность-признаков-3.2\"><span class=\"toc-item-num\">3.2&nbsp;&nbsp;</span>Важность признаков</a></span></li>             \n",
    "         <li><span><a href=\"#Проверка-на-адекватность\" data-toc-modified-id=\"Проверка-на-адекватность-3.3\"><span class=\"toc-item-num\">3.3&nbsp;&nbsp;</span>Проверка на адекватность</a></span></li></ul></li>\n",
    "    </ul></div>"
   ]
  },
  {
   "cell_type": "markdown",
   "metadata": {},
   "source": [
    "# Определение стоимости автомобилей"
   ]
  },
  {
   "cell_type": "markdown",
   "metadata": {},
   "source": [
    "Сервис по продаже автомобилей с пробегом «Не бит, не крашен» разрабатывает приложение для привлечения новых клиентов. В нём можно быстро узнать рыночную стоимость своего автомобиля. В вашем распоряжении исторические данные: технические характеристики, комплектации и цены автомобилей. Вам нужно построить модель для определения стоимости. \n",
    "\n",
    "Заказчику важны:\n",
    "\n",
    "- качество предсказания;\n",
    "- скорость предсказания;\n",
    "- время обучения."
   ]
  },
  {
   "cell_type": "markdown",
   "metadata": {},
   "source": [
    "## Подготовка данных"
   ]
  },
  {
   "cell_type": "markdown",
   "metadata": {},
   "source": [
    "### Импорт"
   ]
  },
  {
   "cell_type": "markdown",
   "metadata": {},
   "source": [
    "Импортируем необходимые для работы библиотеки. Считаем данные из csv-файла в датафрейм, сохраним в переменную `data` и выведем на экран первые десять строк и общую информацию о датасете."
   ]
  },
  {
   "cell_type": "code",
   "execution_count": 2,
   "metadata": {},
   "outputs": [],
   "source": [
    "# miscellaneous\n",
    "import time\n",
    "\n",
    "# data analysis\n",
    "import pandas as pd\n",
    "import numpy as np\n",
    "\n",
    "# visualisation\n",
    "import matplotlib.pyplot as plt\n",
    "import seaborn as sns\n",
    "\n",
    "# machine learning\n",
    "import lightgbm as lgb\n",
    "from catboost import CatBoostRegressor\n",
    "from sklearn.metrics import mean_squared_error\n",
    "from sklearn.ensemble import RandomForestRegressor\n",
    "from sklearn.dummy import DummyRegressor\n",
    "from sklearn.compose import make_column_transformer\n",
    "from sklearn.pipeline import make_pipeline\n",
    "from category_encoders import MEstimateEncoder\n",
    "from sklearn.linear_model import (\n",
    "    LinearRegression,\n",
    "    Ridge)\n",
    "\n",
    "from sklearn.preprocessing import (\n",
    "    OneHotEncoder,\n",
    "    StandardScaler)\n",
    "\n",
    "from sklearn.model_selection import (\n",
    "    GridSearchCV, \n",
    "    RandomizedSearchCV,\n",
    "    cross_val_score,\n",
    "    train_test_split)"
   ]
  },
  {
   "cell_type": "code",
   "execution_count": 3,
   "metadata": {},
   "outputs": [
    {
     "data": {
      "text/html": [
       "<div>\n",
       "<style scoped>\n",
       "    .dataframe tbody tr th:only-of-type {\n",
       "        vertical-align: middle;\n",
       "    }\n",
       "\n",
       "    .dataframe tbody tr th {\n",
       "        vertical-align: top;\n",
       "    }\n",
       "\n",
       "    .dataframe thead th {\n",
       "        text-align: right;\n",
       "    }\n",
       "</style>\n",
       "<table border=\"1\" class=\"dataframe\">\n",
       "  <thead>\n",
       "    <tr style=\"text-align: right;\">\n",
       "      <th></th>\n",
       "      <th>DateCrawled</th>\n",
       "      <th>Price</th>\n",
       "      <th>VehicleType</th>\n",
       "      <th>RegistrationYear</th>\n",
       "      <th>Gearbox</th>\n",
       "      <th>Power</th>\n",
       "      <th>Model</th>\n",
       "      <th>Kilometer</th>\n",
       "      <th>RegistrationMonth</th>\n",
       "      <th>FuelType</th>\n",
       "      <th>Brand</th>\n",
       "      <th>Repaired</th>\n",
       "      <th>DateCreated</th>\n",
       "      <th>NumberOfPictures</th>\n",
       "      <th>PostalCode</th>\n",
       "      <th>LastSeen</th>\n",
       "    </tr>\n",
       "  </thead>\n",
       "  <tbody>\n",
       "    <tr>\n",
       "      <th>0</th>\n",
       "      <td>2016-03-24 11:52:17</td>\n",
       "      <td>480</td>\n",
       "      <td>NaN</td>\n",
       "      <td>1993</td>\n",
       "      <td>manual</td>\n",
       "      <td>0</td>\n",
       "      <td>golf</td>\n",
       "      <td>150000</td>\n",
       "      <td>0</td>\n",
       "      <td>petrol</td>\n",
       "      <td>volkswagen</td>\n",
       "      <td>NaN</td>\n",
       "      <td>2016-03-24 00:00:00</td>\n",
       "      <td>0</td>\n",
       "      <td>70435</td>\n",
       "      <td>2016-04-07 03:16:57</td>\n",
       "    </tr>\n",
       "    <tr>\n",
       "      <th>1</th>\n",
       "      <td>2016-03-24 10:58:45</td>\n",
       "      <td>18300</td>\n",
       "      <td>coupe</td>\n",
       "      <td>2011</td>\n",
       "      <td>manual</td>\n",
       "      <td>190</td>\n",
       "      <td>NaN</td>\n",
       "      <td>125000</td>\n",
       "      <td>5</td>\n",
       "      <td>gasoline</td>\n",
       "      <td>audi</td>\n",
       "      <td>yes</td>\n",
       "      <td>2016-03-24 00:00:00</td>\n",
       "      <td>0</td>\n",
       "      <td>66954</td>\n",
       "      <td>2016-04-07 01:46:50</td>\n",
       "    </tr>\n",
       "    <tr>\n",
       "      <th>2</th>\n",
       "      <td>2016-03-14 12:52:21</td>\n",
       "      <td>9800</td>\n",
       "      <td>suv</td>\n",
       "      <td>2004</td>\n",
       "      <td>auto</td>\n",
       "      <td>163</td>\n",
       "      <td>grand</td>\n",
       "      <td>125000</td>\n",
       "      <td>8</td>\n",
       "      <td>gasoline</td>\n",
       "      <td>jeep</td>\n",
       "      <td>NaN</td>\n",
       "      <td>2016-03-14 00:00:00</td>\n",
       "      <td>0</td>\n",
       "      <td>90480</td>\n",
       "      <td>2016-04-05 12:47:46</td>\n",
       "    </tr>\n",
       "    <tr>\n",
       "      <th>3</th>\n",
       "      <td>2016-03-17 16:54:04</td>\n",
       "      <td>1500</td>\n",
       "      <td>small</td>\n",
       "      <td>2001</td>\n",
       "      <td>manual</td>\n",
       "      <td>75</td>\n",
       "      <td>golf</td>\n",
       "      <td>150000</td>\n",
       "      <td>6</td>\n",
       "      <td>petrol</td>\n",
       "      <td>volkswagen</td>\n",
       "      <td>no</td>\n",
       "      <td>2016-03-17 00:00:00</td>\n",
       "      <td>0</td>\n",
       "      <td>91074</td>\n",
       "      <td>2016-03-17 17:40:17</td>\n",
       "    </tr>\n",
       "    <tr>\n",
       "      <th>4</th>\n",
       "      <td>2016-03-31 17:25:20</td>\n",
       "      <td>3600</td>\n",
       "      <td>small</td>\n",
       "      <td>2008</td>\n",
       "      <td>manual</td>\n",
       "      <td>69</td>\n",
       "      <td>fabia</td>\n",
       "      <td>90000</td>\n",
       "      <td>7</td>\n",
       "      <td>gasoline</td>\n",
       "      <td>skoda</td>\n",
       "      <td>no</td>\n",
       "      <td>2016-03-31 00:00:00</td>\n",
       "      <td>0</td>\n",
       "      <td>60437</td>\n",
       "      <td>2016-04-06 10:17:21</td>\n",
       "    </tr>\n",
       "    <tr>\n",
       "      <th>5</th>\n",
       "      <td>2016-04-04 17:36:23</td>\n",
       "      <td>650</td>\n",
       "      <td>sedan</td>\n",
       "      <td>1995</td>\n",
       "      <td>manual</td>\n",
       "      <td>102</td>\n",
       "      <td>3er</td>\n",
       "      <td>150000</td>\n",
       "      <td>10</td>\n",
       "      <td>petrol</td>\n",
       "      <td>bmw</td>\n",
       "      <td>yes</td>\n",
       "      <td>2016-04-04 00:00:00</td>\n",
       "      <td>0</td>\n",
       "      <td>33775</td>\n",
       "      <td>2016-04-06 19:17:07</td>\n",
       "    </tr>\n",
       "    <tr>\n",
       "      <th>6</th>\n",
       "      <td>2016-04-01 20:48:51</td>\n",
       "      <td>2200</td>\n",
       "      <td>convertible</td>\n",
       "      <td>2004</td>\n",
       "      <td>manual</td>\n",
       "      <td>109</td>\n",
       "      <td>2_reihe</td>\n",
       "      <td>150000</td>\n",
       "      <td>8</td>\n",
       "      <td>petrol</td>\n",
       "      <td>peugeot</td>\n",
       "      <td>no</td>\n",
       "      <td>2016-04-01 00:00:00</td>\n",
       "      <td>0</td>\n",
       "      <td>67112</td>\n",
       "      <td>2016-04-05 18:18:39</td>\n",
       "    </tr>\n",
       "    <tr>\n",
       "      <th>7</th>\n",
       "      <td>2016-03-21 18:54:38</td>\n",
       "      <td>0</td>\n",
       "      <td>sedan</td>\n",
       "      <td>1980</td>\n",
       "      <td>manual</td>\n",
       "      <td>50</td>\n",
       "      <td>other</td>\n",
       "      <td>40000</td>\n",
       "      <td>7</td>\n",
       "      <td>petrol</td>\n",
       "      <td>volkswagen</td>\n",
       "      <td>no</td>\n",
       "      <td>2016-03-21 00:00:00</td>\n",
       "      <td>0</td>\n",
       "      <td>19348</td>\n",
       "      <td>2016-03-25 16:47:58</td>\n",
       "    </tr>\n",
       "    <tr>\n",
       "      <th>8</th>\n",
       "      <td>2016-04-04 23:42:13</td>\n",
       "      <td>14500</td>\n",
       "      <td>bus</td>\n",
       "      <td>2014</td>\n",
       "      <td>manual</td>\n",
       "      <td>125</td>\n",
       "      <td>c_max</td>\n",
       "      <td>30000</td>\n",
       "      <td>8</td>\n",
       "      <td>petrol</td>\n",
       "      <td>ford</td>\n",
       "      <td>NaN</td>\n",
       "      <td>2016-04-04 00:00:00</td>\n",
       "      <td>0</td>\n",
       "      <td>94505</td>\n",
       "      <td>2016-04-04 23:42:13</td>\n",
       "    </tr>\n",
       "    <tr>\n",
       "      <th>9</th>\n",
       "      <td>2016-03-17 10:53:50</td>\n",
       "      <td>999</td>\n",
       "      <td>small</td>\n",
       "      <td>1998</td>\n",
       "      <td>manual</td>\n",
       "      <td>101</td>\n",
       "      <td>golf</td>\n",
       "      <td>150000</td>\n",
       "      <td>0</td>\n",
       "      <td>NaN</td>\n",
       "      <td>volkswagen</td>\n",
       "      <td>NaN</td>\n",
       "      <td>2016-03-17 00:00:00</td>\n",
       "      <td>0</td>\n",
       "      <td>27472</td>\n",
       "      <td>2016-03-31 17:17:06</td>\n",
       "    </tr>\n",
       "  </tbody>\n",
       "</table>\n",
       "</div>"
      ],
      "text/plain": [
       "           DateCrawled  Price  VehicleType  RegistrationYear Gearbox  Power  \\\n",
       "0  2016-03-24 11:52:17    480          NaN              1993  manual      0   \n",
       "1  2016-03-24 10:58:45  18300        coupe              2011  manual    190   \n",
       "2  2016-03-14 12:52:21   9800          suv              2004    auto    163   \n",
       "3  2016-03-17 16:54:04   1500        small              2001  manual     75   \n",
       "4  2016-03-31 17:25:20   3600        small              2008  manual     69   \n",
       "5  2016-04-04 17:36:23    650        sedan              1995  manual    102   \n",
       "6  2016-04-01 20:48:51   2200  convertible              2004  manual    109   \n",
       "7  2016-03-21 18:54:38      0        sedan              1980  manual     50   \n",
       "8  2016-04-04 23:42:13  14500          bus              2014  manual    125   \n",
       "9  2016-03-17 10:53:50    999        small              1998  manual    101   \n",
       "\n",
       "     Model  Kilometer  RegistrationMonth  FuelType       Brand Repaired  \\\n",
       "0     golf     150000                  0    petrol  volkswagen      NaN   \n",
       "1      NaN     125000                  5  gasoline        audi      yes   \n",
       "2    grand     125000                  8  gasoline        jeep      NaN   \n",
       "3     golf     150000                  6    petrol  volkswagen       no   \n",
       "4    fabia      90000                  7  gasoline       skoda       no   \n",
       "5      3er     150000                 10    petrol         bmw      yes   \n",
       "6  2_reihe     150000                  8    petrol     peugeot       no   \n",
       "7    other      40000                  7    petrol  volkswagen       no   \n",
       "8    c_max      30000                  8    petrol        ford      NaN   \n",
       "9     golf     150000                  0       NaN  volkswagen      NaN   \n",
       "\n",
       "           DateCreated  NumberOfPictures  PostalCode             LastSeen  \n",
       "0  2016-03-24 00:00:00                 0       70435  2016-04-07 03:16:57  \n",
       "1  2016-03-24 00:00:00                 0       66954  2016-04-07 01:46:50  \n",
       "2  2016-03-14 00:00:00                 0       90480  2016-04-05 12:47:46  \n",
       "3  2016-03-17 00:00:00                 0       91074  2016-03-17 17:40:17  \n",
       "4  2016-03-31 00:00:00                 0       60437  2016-04-06 10:17:21  \n",
       "5  2016-04-04 00:00:00                 0       33775  2016-04-06 19:17:07  \n",
       "6  2016-04-01 00:00:00                 0       67112  2016-04-05 18:18:39  \n",
       "7  2016-03-21 00:00:00                 0       19348  2016-03-25 16:47:58  \n",
       "8  2016-04-04 00:00:00                 0       94505  2016-04-04 23:42:13  \n",
       "9  2016-03-17 00:00:00                 0       27472  2016-03-31 17:17:06  "
      ]
     },
     "execution_count": 3,
     "metadata": {},
     "output_type": "execute_result"
    }
   ],
   "source": [
    "try:\n",
    "    data = pd.read_csv('https://code.s3.yandex.net/datasets/autos.csv')\n",
    "except:\n",
    "    data = pd.read_csv('autos.csv')\n",
    "    \n",
    "data.head(10)"
   ]
  },
  {
   "cell_type": "markdown",
   "metadata": {},
   "source": [
    "### Описание"
   ]
  },
  {
   "cell_type": "markdown",
   "metadata": {},
   "source": [
    "Выведем общую информацию о датасете."
   ]
  },
  {
   "cell_type": "code",
   "execution_count": 4,
   "metadata": {},
   "outputs": [
    {
     "name": "stdout",
     "output_type": "stream",
     "text": [
      "<class 'pandas.core.frame.DataFrame'>\n",
      "RangeIndex: 354369 entries, 0 to 354368\n",
      "Data columns (total 16 columns):\n",
      " #   Column             Non-Null Count   Dtype \n",
      "---  ------             --------------   ----- \n",
      " 0   DateCrawled        354369 non-null  object\n",
      " 1   Price              354369 non-null  int64 \n",
      " 2   VehicleType        316879 non-null  object\n",
      " 3   RegistrationYear   354369 non-null  int64 \n",
      " 4   Gearbox            334536 non-null  object\n",
      " 5   Power              354369 non-null  int64 \n",
      " 6   Model              334664 non-null  object\n",
      " 7   Kilometer          354369 non-null  int64 \n",
      " 8   RegistrationMonth  354369 non-null  int64 \n",
      " 9   FuelType           321474 non-null  object\n",
      " 10  Brand              354369 non-null  object\n",
      " 11  Repaired           283215 non-null  object\n",
      " 12  DateCreated        354369 non-null  object\n",
      " 13  NumberOfPictures   354369 non-null  int64 \n",
      " 14  PostalCode         354369 non-null  int64 \n",
      " 15  LastSeen           354369 non-null  object\n",
      "dtypes: int64(7), object(9)\n",
      "memory usage: 43.3+ MB\n"
     ]
    }
   ],
   "source": [
    "data.info()"
   ]
  },
  {
   "cell_type": "markdown",
   "metadata": {},
   "source": [
    "В датасете 15 столбцов и 354369 строк. При этом в признаках `VehicleType`, `Gearbox`, `Model`, `FuelType`, `Repaired` есть пропущенные значения. Типы столбцов `DateCrawled`, `DateCreated`, `LastSeen` можно сконвертировать в даты, остальные столбцы в порядке."
   ]
  },
  {
   "cell_type": "markdown",
   "metadata": {},
   "source": [
    "Признаки\n",
    "- `DateCrawled` — дата скачивания анкеты из базы;\n",
    "- `VehicleType` — тип автомобильного кузова, категориальный признак;\n",
    "- `RegistrationYear` — год регистрации автомобиля, количественный дискретный признак;\n",
    "- `Gearbox` — тип коробки передач, категориальный признак;\n",
    "- `Power` — мощность (л. с.), количественный непрерывный признак;\n",
    "- `Model` — модель автомобиля, категориальный признак;\n",
    "- `Kilometer` — пробег (км), количественный непрерывный признак;\n",
    "- `RegistrationMonth` — месяц регистрации автомобиля, категориальный признак;\n",
    "- `FuelType` — тип топлива, категориальный признак;\n",
    "- `Repaired` — была машина в ремонте или нет, бинарный признак;\n",
    "- `DateCreated` — дата создания анкеты;\n",
    "- `NumberOfPictures` — количество фотографий автомобиля, количественный дискретный признак;\n",
    "- `PostalCode` — почтовый индекс владельца анкеты (пользователя), категориальный признак;\n",
    "- `LastSeen` — дата последней активности пользователя.\n",
    "\n",
    "Целевой признак\n",
    "- `Price` — цена (евро), количественный непрерывный признак."
   ]
  },
  {
   "cell_type": "markdown",
   "metadata": {},
   "source": [
    "Целевой признак является количественным и непрерывным, перед нами регрессионная задача обучения с учителем. Проведем исследовательский анализ данных: выведем метрики данных и построим гистограммы признаков."
   ]
  },
  {
   "cell_type": "code",
   "execution_count": 5,
   "metadata": {
    "run_control": {
     "marked": false
    }
   },
   "outputs": [
    {
     "data": {
      "text/html": [
       "<div>\n",
       "<style scoped>\n",
       "    .dataframe tbody tr th:only-of-type {\n",
       "        vertical-align: middle;\n",
       "    }\n",
       "\n",
       "    .dataframe tbody tr th {\n",
       "        vertical-align: top;\n",
       "    }\n",
       "\n",
       "    .dataframe thead th {\n",
       "        text-align: right;\n",
       "    }\n",
       "</style>\n",
       "<table border=\"1\" class=\"dataframe\">\n",
       "  <thead>\n",
       "    <tr style=\"text-align: right;\">\n",
       "      <th></th>\n",
       "      <th>count</th>\n",
       "      <th>mean</th>\n",
       "      <th>std</th>\n",
       "      <th>min</th>\n",
       "      <th>25%</th>\n",
       "      <th>50%</th>\n",
       "      <th>75%</th>\n",
       "      <th>max</th>\n",
       "    </tr>\n",
       "  </thead>\n",
       "  <tbody>\n",
       "    <tr>\n",
       "      <th>Price</th>\n",
       "      <td>354369.0</td>\n",
       "      <td>4416.656776</td>\n",
       "      <td>4514.158514</td>\n",
       "      <td>0.0</td>\n",
       "      <td>1050.0</td>\n",
       "      <td>2700.0</td>\n",
       "      <td>6400.0</td>\n",
       "      <td>20000.0</td>\n",
       "    </tr>\n",
       "    <tr>\n",
       "      <th>RegistrationYear</th>\n",
       "      <td>354369.0</td>\n",
       "      <td>2004.234448</td>\n",
       "      <td>90.227958</td>\n",
       "      <td>1000.0</td>\n",
       "      <td>1999.0</td>\n",
       "      <td>2003.0</td>\n",
       "      <td>2008.0</td>\n",
       "      <td>9999.0</td>\n",
       "    </tr>\n",
       "    <tr>\n",
       "      <th>Power</th>\n",
       "      <td>354369.0</td>\n",
       "      <td>110.094337</td>\n",
       "      <td>189.850405</td>\n",
       "      <td>0.0</td>\n",
       "      <td>69.0</td>\n",
       "      <td>105.0</td>\n",
       "      <td>143.0</td>\n",
       "      <td>20000.0</td>\n",
       "    </tr>\n",
       "    <tr>\n",
       "      <th>Kilometer</th>\n",
       "      <td>354369.0</td>\n",
       "      <td>128211.172535</td>\n",
       "      <td>37905.341530</td>\n",
       "      <td>5000.0</td>\n",
       "      <td>125000.0</td>\n",
       "      <td>150000.0</td>\n",
       "      <td>150000.0</td>\n",
       "      <td>150000.0</td>\n",
       "    </tr>\n",
       "    <tr>\n",
       "      <th>RegistrationMonth</th>\n",
       "      <td>354369.0</td>\n",
       "      <td>5.714645</td>\n",
       "      <td>3.726421</td>\n",
       "      <td>0.0</td>\n",
       "      <td>3.0</td>\n",
       "      <td>6.0</td>\n",
       "      <td>9.0</td>\n",
       "      <td>12.0</td>\n",
       "    </tr>\n",
       "    <tr>\n",
       "      <th>NumberOfPictures</th>\n",
       "      <td>354369.0</td>\n",
       "      <td>0.000000</td>\n",
       "      <td>0.000000</td>\n",
       "      <td>0.0</td>\n",
       "      <td>0.0</td>\n",
       "      <td>0.0</td>\n",
       "      <td>0.0</td>\n",
       "      <td>0.0</td>\n",
       "    </tr>\n",
       "    <tr>\n",
       "      <th>PostalCode</th>\n",
       "      <td>354369.0</td>\n",
       "      <td>50508.689087</td>\n",
       "      <td>25783.096248</td>\n",
       "      <td>1067.0</td>\n",
       "      <td>30165.0</td>\n",
       "      <td>49413.0</td>\n",
       "      <td>71083.0</td>\n",
       "      <td>99998.0</td>\n",
       "    </tr>\n",
       "  </tbody>\n",
       "</table>\n",
       "</div>"
      ],
      "text/plain": [
       "                      count           mean           std     min       25%  \\\n",
       "Price              354369.0    4416.656776   4514.158514     0.0    1050.0   \n",
       "RegistrationYear   354369.0    2004.234448     90.227958  1000.0    1999.0   \n",
       "Power              354369.0     110.094337    189.850405     0.0      69.0   \n",
       "Kilometer          354369.0  128211.172535  37905.341530  5000.0  125000.0   \n",
       "RegistrationMonth  354369.0       5.714645      3.726421     0.0       3.0   \n",
       "NumberOfPictures   354369.0       0.000000      0.000000     0.0       0.0   \n",
       "PostalCode         354369.0   50508.689087  25783.096248  1067.0   30165.0   \n",
       "\n",
       "                        50%       75%       max  \n",
       "Price                2700.0    6400.0   20000.0  \n",
       "RegistrationYear     2003.0    2008.0    9999.0  \n",
       "Power                 105.0     143.0   20000.0  \n",
       "Kilometer          150000.0  150000.0  150000.0  \n",
       "RegistrationMonth       6.0       9.0      12.0  \n",
       "NumberOfPictures        0.0       0.0       0.0  \n",
       "PostalCode          49413.0   71083.0   99998.0  "
      ]
     },
     "execution_count": 5,
     "metadata": {},
     "output_type": "execute_result"
    }
   ],
   "source": [
    "data.describe().T"
   ]
  },
  {
   "cell_type": "code",
   "execution_count": 6,
   "metadata": {},
   "outputs": [
    {
     "data": {
      "image/png": "[encoded data removed]",
      "text/plain": [
       "<Figure size 1200x800 with 6 Axes>"
      ]
     },
     "metadata": {},
     "output_type": "display_data"
    }
   ],
   "source": [
    "fig, ax = plt.subplots(nrows=3, ncols=2, figsize=(12, 8))\n",
    "# убираем PostalCode, этот признак будет показан далее\n",
    "data.drop(['PostalCode'], axis=1).hist(ax=ax)\n",
    "fig.tight_layout();"
   ]
  },
  {
   "cell_type": "markdown",
   "metadata": {},
   "source": [
    "В признаках можно отметить странные значения:\n",
    "- нулевые цены;\n",
    "- некоторые автомобили зарегистрированы во времена крестовых походов или grim dark future;\n",
    "- нулевая мощность двигателя;\n",
    "- мощность двигателя 20000 л.с.;\n",
    "- месяц регистрации автомобиля нулевой;\n",
    "- у всех объектов отсутствуют фотографии."
   ]
  },
  {
   "cell_type": "markdown",
   "metadata": {},
   "source": [
    "Сконвертируем столбцы, содержащие даты."
   ]
  },
  {
   "cell_type": "code",
   "execution_count": 7,
   "metadata": {
    "scrolled": true
   },
   "outputs": [
    {
     "name": "stdout",
     "output_type": "stream",
     "text": [
      "<class 'pandas.core.frame.DataFrame'>\n",
      "RangeIndex: 354369 entries, 0 to 354368\n",
      "Data columns (total 3 columns):\n",
      " #   Column       Non-Null Count   Dtype         \n",
      "---  ------       --------------   -----         \n",
      " 0   DateCrawled  354369 non-null  datetime64[ns]\n",
      " 1   DateCreated  354369 non-null  datetime64[ns]\n",
      " 2   LastSeen     354369 non-null  datetime64[ns]\n",
      "dtypes: datetime64[ns](3)\n",
      "memory usage: 8.1 MB\n"
     ]
    }
   ],
   "source": [
    "data['DateCrawled'] = pd.to_datetime(data['DateCrawled'])\n",
    "data['DateCreated'] = pd.to_datetime(data['DateCreated'])\n",
    "data['LastSeen'] = pd.to_datetime(data['LastSeen'])\n",
    "\n",
    "# Проверка\n",
    "data[['DateCrawled', 'DateCreated', 'LastSeen']].info()"
   ]
  },
  {
   "cell_type": "code",
   "execution_count": 8,
   "metadata": {
    "run_control": {
     "marked": true
    }
   },
   "outputs": [
    {
     "data": {
      "image/png": "[encoded data removed]",
      "text/plain": [
       "<Figure size 1200x800 with 4 Axes>"
      ]
     },
     "metadata": {},
     "output_type": "display_data"
    }
   ],
   "source": [
    "fig, ax = plt.subplots(nrows=2, ncols=2, figsize=(12, 8))\n",
    "data[['PostalCode','DateCrawled', 'DateCreated', 'LastSeen']].hist(ax=ax, xlabelsize=7)\n",
    "fig.tight_layout(pad=2);"
   ]
  },
  {
   "cell_type": "markdown",
   "metadata": {},
   "source": [
    "Можно отметить, что в датах создания анкеты есть выбросы."
   ]
  },
  {
   "cell_type": "code",
   "execution_count": 9,
   "metadata": {},
   "outputs": [
    {
     "data": {
      "text/html": [
       "<div>\n",
       "<style scoped>\n",
       "    .dataframe tbody tr th:only-of-type {\n",
       "        vertical-align: middle;\n",
       "    }\n",
       "\n",
       "    .dataframe tbody tr th {\n",
       "        vertical-align: top;\n",
       "    }\n",
       "\n",
       "    .dataframe thead th {\n",
       "        text-align: right;\n",
       "    }\n",
       "</style>\n",
       "<table border=\"1\" class=\"dataframe\">\n",
       "  <thead>\n",
       "    <tr style=\"text-align: right;\">\n",
       "      <th></th>\n",
       "      <th>count</th>\n",
       "      <th>unique</th>\n",
       "      <th>top</th>\n",
       "      <th>freq</th>\n",
       "    </tr>\n",
       "  </thead>\n",
       "  <tbody>\n",
       "    <tr>\n",
       "      <th>VehicleType</th>\n",
       "      <td>316879</td>\n",
       "      <td>8</td>\n",
       "      <td>sedan</td>\n",
       "      <td>91457</td>\n",
       "    </tr>\n",
       "    <tr>\n",
       "      <th>Gearbox</th>\n",
       "      <td>334536</td>\n",
       "      <td>2</td>\n",
       "      <td>manual</td>\n",
       "      <td>268251</td>\n",
       "    </tr>\n",
       "    <tr>\n",
       "      <th>Model</th>\n",
       "      <td>334664</td>\n",
       "      <td>250</td>\n",
       "      <td>golf</td>\n",
       "      <td>29232</td>\n",
       "    </tr>\n",
       "    <tr>\n",
       "      <th>FuelType</th>\n",
       "      <td>321474</td>\n",
       "      <td>7</td>\n",
       "      <td>petrol</td>\n",
       "      <td>216352</td>\n",
       "    </tr>\n",
       "    <tr>\n",
       "      <th>Brand</th>\n",
       "      <td>354369</td>\n",
       "      <td>40</td>\n",
       "      <td>volkswagen</td>\n",
       "      <td>77013</td>\n",
       "    </tr>\n",
       "    <tr>\n",
       "      <th>Repaired</th>\n",
       "      <td>283215</td>\n",
       "      <td>2</td>\n",
       "      <td>no</td>\n",
       "      <td>247161</td>\n",
       "    </tr>\n",
       "  </tbody>\n",
       "</table>\n",
       "</div>"
      ],
      "text/plain": [
       "              count unique         top    freq\n",
       "VehicleType  316879      8       sedan   91457\n",
       "Gearbox      334536      2      manual  268251\n",
       "Model        334664    250        golf   29232\n",
       "FuelType     321474      7      petrol  216352\n",
       "Brand        354369     40  volkswagen   77013\n",
       "Repaired     283215      2          no  247161"
      ]
     },
     "execution_count": 9,
     "metadata": {},
     "output_type": "execute_result"
    }
   ],
   "source": [
    "data.describe(include=['O']).T"
   ]
  },
  {
   "cell_type": "code",
   "execution_count": 10,
   "metadata": {
    "scrolled": true
   },
   "outputs": [
    {
     "data": {
      "text/plain": [
       "array([nan, 'coupe', 'suv', 'small', 'sedan', 'convertible', 'bus',\n",
       "       'wagon', 'other'], dtype=object)"
      ]
     },
     "execution_count": 10,
     "metadata": {},
     "output_type": "execute_result"
    }
   ],
   "source": [
    "data['VehicleType'].unique()"
   ]
  },
  {
   "cell_type": "code",
   "execution_count": 11,
   "metadata": {
    "scrolled": true
   },
   "outputs": [
    {
     "data": {
      "text/plain": [
       "array(['volkswagen', 'audi', 'jeep', 'skoda', 'bmw', 'peugeot', 'ford',\n",
       "       'mazda', 'nissan', 'renault', 'mercedes_benz', 'opel', 'seat',\n",
       "       'citroen', 'honda', 'fiat', 'mini', 'smart', 'hyundai',\n",
       "       'sonstige_autos', 'alfa_romeo', 'subaru', 'volvo', 'mitsubishi',\n",
       "       'kia', 'suzuki', 'lancia', 'toyota', 'chevrolet', 'dacia',\n",
       "       'daihatsu', 'trabant', 'saab', 'chrysler', 'jaguar', 'daewoo',\n",
       "       'porsche', 'rover', 'land_rover', 'lada'], dtype=object)"
      ]
     },
     "execution_count": 11,
     "metadata": {},
     "output_type": "execute_result"
    }
   ],
   "source": [
    "data['Brand'].unique()"
   ]
  },
  {
   "cell_type": "code",
   "execution_count": 12,
   "metadata": {},
   "outputs": [
    {
     "data": {
      "text/plain": [
       "array(['petrol', 'gasoline', nan, 'lpg', 'other', 'hybrid', 'cng',\n",
       "       'electric'], dtype=object)"
      ]
     },
     "execution_count": 12,
     "metadata": {},
     "output_type": "execute_result"
    }
   ],
   "source": [
    "data['FuelType'].unique()"
   ]
  },
  {
   "cell_type": "markdown",
   "metadata": {},
   "source": [
    "Типы автомобилей и бренды имеют уникальные названия, а вот виды топлива `petrol` и `gasoline` являются синонимами. Следует объединить эти два класса. Также можно отметить, что пропуски присутствуют только в категориальных признаках.\n",
    "\n",
    "По итогам поверхностного анализа данных можно запланировать следующие шаги:\n",
    "- проверка аномалий и выбросов;\n",
    "- проверка на дубликаты;\n",
    "- заполнение пропусков."
   ]
  },
  {
   "cell_type": "markdown",
   "metadata": {},
   "source": [
    "### Проверка аномалий и выбросов"
   ]
  },
  {
   "cell_type": "markdown",
   "metadata": {},
   "source": [
    "Установим последний год в признаке DataCrawled и ограничим выборку тридцатью годами в прошлое."
   ]
  },
  {
   "cell_type": "code",
   "execution_count": 13,
   "metadata": {
    "run_control": {
     "marked": false
    }
   },
   "outputs": [],
   "source": [
    "'''\n",
    "Функция для проверки количества удаленных строк.\n",
    "Принимает длину датасета, вычисляет новую длину после удаления строк и выводит разницу.\n",
    "'''\n",
    "\n",
    "def delete_count(length):\n",
    "    deleted = length - data.shape[0]\n",
    "    print(f'Удалено {deleted} строк(и) из {length} ({round(deleted*100/length, 2)}%)')\n",
    "    return data.shape[0]"
   ]
  },
  {
   "cell_type": "code",
   "execution_count": 14,
   "metadata": {
    "run_control": {
     "marked": true
    }
   },
   "outputs": [
    {
     "data": {
      "text/html": [
       "<div>\n",
       "<style scoped>\n",
       "    .dataframe tbody tr th:only-of-type {\n",
       "        vertical-align: middle;\n",
       "    }\n",
       "\n",
       "    .dataframe tbody tr th {\n",
       "        vertical-align: top;\n",
       "    }\n",
       "\n",
       "    .dataframe thead th {\n",
       "        text-align: right;\n",
       "    }\n",
       "</style>\n",
       "<table border=\"1\" class=\"dataframe\">\n",
       "  <thead>\n",
       "    <tr style=\"text-align: right;\">\n",
       "      <th></th>\n",
       "      <th>DateCrawled</th>\n",
       "      <th>Price</th>\n",
       "      <th>VehicleType</th>\n",
       "      <th>RegistrationYear</th>\n",
       "      <th>Gearbox</th>\n",
       "      <th>Power</th>\n",
       "      <th>Model</th>\n",
       "      <th>Kilometer</th>\n",
       "      <th>RegistrationMonth</th>\n",
       "      <th>FuelType</th>\n",
       "      <th>Brand</th>\n",
       "      <th>Repaired</th>\n",
       "      <th>DateCreated</th>\n",
       "      <th>NumberOfPictures</th>\n",
       "      <th>PostalCode</th>\n",
       "      <th>LastSeen</th>\n",
       "    </tr>\n",
       "  </thead>\n",
       "  <tbody>\n",
       "    <tr>\n",
       "      <th>90713</th>\n",
       "      <td>2016-04-07 14:36:58</td>\n",
       "      <td>3500</td>\n",
       "      <td>sedan</td>\n",
       "      <td>1999</td>\n",
       "      <td>manual</td>\n",
       "      <td>143</td>\n",
       "      <td>e_klasse</td>\n",
       "      <td>150000</td>\n",
       "      <td>8</td>\n",
       "      <td>gasoline</td>\n",
       "      <td>mercedes_benz</td>\n",
       "      <td>no</td>\n",
       "      <td>2016-04-07</td>\n",
       "      <td>0</td>\n",
       "      <td>64846</td>\n",
       "      <td>2016-04-07 14:36:58</td>\n",
       "    </tr>\n",
       "    <tr>\n",
       "      <th>339649</th>\n",
       "      <td>2016-04-07 14:36:56</td>\n",
       "      <td>8650</td>\n",
       "      <td>suv</td>\n",
       "      <td>1992</td>\n",
       "      <td>manual</td>\n",
       "      <td>121</td>\n",
       "      <td>wrangler</td>\n",
       "      <td>125000</td>\n",
       "      <td>5</td>\n",
       "      <td>petrol</td>\n",
       "      <td>jeep</td>\n",
       "      <td>no</td>\n",
       "      <td>2016-04-07</td>\n",
       "      <td>0</td>\n",
       "      <td>20357</td>\n",
       "      <td>2016-04-07 14:36:56</td>\n",
       "    </tr>\n",
       "    <tr>\n",
       "      <th>301030</th>\n",
       "      <td>2016-04-07 14:36:55</td>\n",
       "      <td>15200</td>\n",
       "      <td>wagon</td>\n",
       "      <td>2008</td>\n",
       "      <td>manual</td>\n",
       "      <td>190</td>\n",
       "      <td>a6</td>\n",
       "      <td>150000</td>\n",
       "      <td>9</td>\n",
       "      <td>gasoline</td>\n",
       "      <td>audi</td>\n",
       "      <td>no</td>\n",
       "      <td>2016-04-07</td>\n",
       "      <td>0</td>\n",
       "      <td>81476</td>\n",
       "      <td>2016-04-07 14:36:55</td>\n",
       "    </tr>\n",
       "    <tr>\n",
       "      <th>53739</th>\n",
       "      <td>2016-04-07 14:36:54</td>\n",
       "      <td>400</td>\n",
       "      <td>small</td>\n",
       "      <td>1996</td>\n",
       "      <td>manual</td>\n",
       "      <td>60</td>\n",
       "      <td>ibiza</td>\n",
       "      <td>150000</td>\n",
       "      <td>0</td>\n",
       "      <td>NaN</td>\n",
       "      <td>seat</td>\n",
       "      <td>NaN</td>\n",
       "      <td>2016-04-07</td>\n",
       "      <td>0</td>\n",
       "      <td>66299</td>\n",
       "      <td>2016-04-07 14:36:54</td>\n",
       "    </tr>\n",
       "    <tr>\n",
       "      <th>204218</th>\n",
       "      <td>2016-04-07 14:36:53</td>\n",
       "      <td>6990</td>\n",
       "      <td>coupe</td>\n",
       "      <td>1979</td>\n",
       "      <td>auto</td>\n",
       "      <td>143</td>\n",
       "      <td>3er</td>\n",
       "      <td>150000</td>\n",
       "      <td>6</td>\n",
       "      <td>petrol</td>\n",
       "      <td>bmw</td>\n",
       "      <td>no</td>\n",
       "      <td>2016-04-07</td>\n",
       "      <td>0</td>\n",
       "      <td>71336</td>\n",
       "      <td>2016-04-07 14:36:53</td>\n",
       "    </tr>\n",
       "  </tbody>\n",
       "</table>\n",
       "</div>"
      ],
      "text/plain": [
       "               DateCrawled  Price VehicleType  RegistrationYear Gearbox  \\\n",
       "90713  2016-04-07 14:36:58   3500       sedan              1999  manual   \n",
       "339649 2016-04-07 14:36:56   8650         suv              1992  manual   \n",
       "301030 2016-04-07 14:36:55  15200       wagon              2008  manual   \n",
       "53739  2016-04-07 14:36:54    400       small              1996  manual   \n",
       "204218 2016-04-07 14:36:53   6990       coupe              1979    auto   \n",
       "\n",
       "        Power     Model  Kilometer  RegistrationMonth  FuelType  \\\n",
       "90713     143  e_klasse     150000                  8  gasoline   \n",
       "339649    121  wrangler     125000                  5    petrol   \n",
       "301030    190        a6     150000                  9  gasoline   \n",
       "53739      60     ibiza     150000                  0       NaN   \n",
       "204218    143       3er     150000                  6    petrol   \n",
       "\n",
       "                Brand Repaired DateCreated  NumberOfPictures  PostalCode  \\\n",
       "90713   mercedes_benz       no  2016-04-07                 0       64846   \n",
       "339649           jeep       no  2016-04-07                 0       20357   \n",
       "301030           audi       no  2016-04-07                 0       81476   \n",
       "53739            seat      NaN  2016-04-07                 0       66299   \n",
       "204218            bmw       no  2016-04-07                 0       71336   \n",
       "\n",
       "                  LastSeen  \n",
       "90713  2016-04-07 14:36:58  \n",
       "339649 2016-04-07 14:36:56  \n",
       "301030 2016-04-07 14:36:55  \n",
       "53739  2016-04-07 14:36:54  \n",
       "204218 2016-04-07 14:36:53  "
      ]
     },
     "execution_count": 14,
     "metadata": {},
     "output_type": "execute_result"
    }
   ],
   "source": [
    "data.sort_values(\n",
    "    by='DateCrawled',\n",
    "    ascending=False).head()"
   ]
  },
  {
   "cell_type": "markdown",
   "metadata": {},
   "source": [
    "Таким образом, рассматривать будем автомобили с регистрацией от 1986 до 2016 года."
   ]
  },
  {
   "cell_type": "code",
   "execution_count": 15,
   "metadata": {},
   "outputs": [
    {
     "name": "stdout",
     "output_type": "stream",
     "text": [
      "Удалено 30871 строк(и) из 354369 (8.71%)\n"
     ]
    }
   ],
   "source": [
    "data_len = data.shape[0]\n",
    "data = data.query('RegistrationYear > 1986 and RegistrationYear < 2016')\n",
    "data_len = delete_count(data_len)"
   ]
  },
  {
   "cell_type": "markdown",
   "metadata": {},
   "source": [
    "Далее рассмотрим автомобили с нулевой мощностью двигателя. Примем допущение, что автомобили с нулевой мощностью либо не на ходу, либо произошла ошибка при вводе данных. Логично, что неисправная машина стоит дешевле исправной. Выведем квинтили цен на авто, у которых мощность двигателя больше нуля."
   ]
  },
  {
   "cell_type": "code",
   "execution_count": 16,
   "metadata": {
    "run_control": {
     "marked": false
    }
   },
   "outputs": [
    {
     "data": {
      "text/html": [
       "<div>\n",
       "<style scoped>\n",
       "    .dataframe tbody tr th:only-of-type {\n",
       "        vertical-align: middle;\n",
       "    }\n",
       "\n",
       "    .dataframe tbody tr th {\n",
       "        vertical-align: top;\n",
       "    }\n",
       "\n",
       "    .dataframe thead th {\n",
       "        text-align: right;\n",
       "    }\n",
       "</style>\n",
       "<table border=\"1\" class=\"dataframe\">\n",
       "  <thead>\n",
       "    <tr style=\"text-align: right;\">\n",
       "      <th></th>\n",
       "      <th>0%</th>\n",
       "      <th>20%</th>\n",
       "      <th>40%</th>\n",
       "      <th>60%</th>\n",
       "      <th>80%</th>\n",
       "      <th>100%</th>\n",
       "    </tr>\n",
       "  </thead>\n",
       "  <tbody>\n",
       "    <tr>\n",
       "      <th>Цена</th>\n",
       "      <td>0.0</td>\n",
       "      <td>1000.0</td>\n",
       "      <td>2200.0</td>\n",
       "      <td>4250.0</td>\n",
       "      <td>8150.0</td>\n",
       "      <td>20000.0</td>\n",
       "    </tr>\n",
       "  </tbody>\n",
       "</table>\n",
       "</div>"
      ],
      "text/plain": [
       "       0%     20%     40%     60%     80%     100%\n",
       "Цена  0.0  1000.0  2200.0  4250.0  8150.0  20000.0"
      ]
     },
     "execution_count": 16,
     "metadata": {},
     "output_type": "execute_result"
    }
   ],
   "source": [
    "_, intervals = pd.qcut(data[data['Power'] != 0]['Price'], q=5, retbins=True, labels=False)\n",
    "pd.DataFrame(columns=['0%', '20%', '40%', '60%', '80%', '100%'], data=[intervals], index=['Цена'])"
   ]
  },
  {
   "cell_type": "markdown",
   "metadata": {},
   "source": [
    "Таким образом, будем считать автомобили с нулевой мощностью и ценой более 1000 евро ошибкой ввода и удалим их."
   ]
  },
  {
   "cell_type": "code",
   "execution_count": 17,
   "metadata": {},
   "outputs": [
    {
     "name": "stdout",
     "output_type": "stream",
     "text": [
      "Удалено 16408 строк(и) из 323498 (5.07%)\n"
     ]
    }
   ],
   "source": [
    "data = data.query('(Power == 0 and Price < 1000) or Power != 0 ')\n",
    "data_len = delete_count(data_len)"
   ]
  },
  {
   "cell_type": "markdown",
   "metadata": {},
   "source": [
    "Нулевой месяц регистрации автомобиля может быть обусловлен отсутствием данных или ошибкой ввода. Проверим количество таких объектов."
   ]
  },
  {
   "cell_type": "code",
   "execution_count": 18,
   "metadata": {},
   "outputs": [
    {
     "data": {
      "text/plain": [
       "25077"
      ]
     },
     "execution_count": 18,
     "metadata": {},
     "output_type": "execute_result"
    }
   ],
   "source": [
    "data.query('RegistrationMonth == 0').shape[0]"
   ]
  },
  {
   "cell_type": "markdown",
   "metadata": {},
   "source": [
    "Достаточно много, удалять нельзя. Будем считать нулевой месяц отдельной категорией, случаем отсутствия данных. Оставим этот признак как есть.\n",
    "\n",
    "Разберемся с нулевой ценой. Выше мы приняли допущение, что автомобили с нулевой мощностью могут стоить менее 999 евро, в это количество также входят автомобили с нулевой стоимостью. Проверим как связаны нулевая стоимость с годом регистрации и пробегом."
   ]
  },
  {
   "cell_type": "code",
   "execution_count": 19,
   "metadata": {
    "run_control": {
     "marked": false
    },
    "scrolled": false
   },
   "outputs": [
    {
     "data": {
      "image/png": "[encoded data removed]",
      "text/plain": [
       "<Figure size 1500x1000 with 2 Axes>"
      ]
     },
     "metadata": {},
     "output_type": "display_data"
    }
   ],
   "source": [
    "fig, ax = plt.subplots(nrows=2, ncols=1, figsize=(15, 10))\n",
    "[ax[i].grid() for i in range(2)]\n",
    "plt.suptitle('Автомобили с нулевой ценой', fontsize=15)\n",
    "\n",
    "sns.countplot(x = data.query('Price == 0 and Power > 0')['RegistrationYear'], ax=ax[0])\n",
    "ax[0].set_ylabel('Количество автомобилей')\n",
    "ax[0].set_xlabel('Год регистрации автомобиля')\n",
    "\n",
    "sns.countplot(x = data.query('Price == 0 and Power > 0')['Kilometer'], ax=ax[1])\n",
    "ax[1].set_ylabel('Количество автомобилей')\n",
    "ax[1].set_xlabel('Пробег, км')\n",
    "\n",
    "fig.tight_layout(pad=2);"
   ]
  },
  {
   "cell_type": "markdown",
   "metadata": {},
   "source": [
    "Заметно, что минимальную оценку в основном получили автомобили с пробегом 150000 км и с годом регистрации в интервале 1997 - 2000 гг."
   ]
  },
  {
   "cell_type": "markdown",
   "metadata": {},
   "source": [
    "Сформулируем следующее правило: выбросом считается объект, имеющий нулевую цену при ненулевой мощности двигателя и пробеге менее 100000 км. Удалим подобные объекты."
   ]
  },
  {
   "cell_type": "code",
   "execution_count": 20,
   "metadata": {
    "scrolled": true
   },
   "outputs": [
    {
     "name": "stdout",
     "output_type": "stream",
     "text": [
      "Удалено 8075 строк(и) из 307090 (2.63%)\n"
     ]
    }
   ],
   "source": [
    "data = data.query('Price > 0 or (Price == 0 and Power > 0 and Kilometer < 100000)')\n",
    "data_len = delete_count(data_len)"
   ]
  },
  {
   "cell_type": "markdown",
   "metadata": {},
   "source": [
    "Так как фотографии отсутствуют у всех объектов, смысла в этом признаке нет, его можно удалить."
   ]
  },
  {
   "cell_type": "code",
   "execution_count": 21,
   "metadata": {},
   "outputs": [],
   "source": [
    "data.drop('NumberOfPictures', axis=1, inplace=True)"
   ]
  },
  {
   "cell_type": "markdown",
   "metadata": {},
   "source": [
    "Проверим как распределяются мощности двигателя в ящике с усами."
   ]
  },
  {
   "cell_type": "code",
   "execution_count": 22,
   "metadata": {
    "scrolled": false
   },
   "outputs": [
    {
     "data": {
      "image/png": "[encoded data removed]",
      "text/plain": [
       "<Figure size 400x800 with 1 Axes>"
      ]
     },
     "metadata": {},
     "output_type": "display_data"
    }
   ],
   "source": [
    "fig, ax = plt.subplots(figsize=(4, 8))\n",
    "sns.boxplot(y=data['Power'])\n",
    "ax.grid();\n",
    "ax.set_ylim(-100, 500)\n",
    "ax.set_ylabel('Лошадиные силы')\n",
    "ax.set_xlabel('Мощность')\n",
    "ax.set_title('Boxplot мощности двигателя');"
   ]
  },
  {
   "cell_type": "markdown",
   "metadata": {},
   "source": [
    "Выбросов немало, удалим объекты со странными мощностями."
   ]
  },
  {
   "cell_type": "code",
   "execution_count": 23,
   "metadata": {
    "run_control": {
     "marked": true
    }
   },
   "outputs": [
    {
     "name": "stdout",
     "output_type": "stream",
     "text": [
      "Верхняя граница мощности двигателя: 262.5 л.с.\n",
      "Удалено 6175 строк(и) из 299015 (2.07%)\n"
     ]
    }
   ],
   "source": [
    "# Q3 + 1.5 * (Q3 - Q1)\n",
    "border = (\n",
    "    np.percentile(data['Power'], 75)\n",
    "    - np.percentile(data['Power'], 25)) * 1.5 + np.percentile(data['Power'], 75) \n",
    "print(f'Верхняя граница мощности двигателя: {border} л.с.')\n",
    "\n",
    "data = data.query('Power < @border')\n",
    "data_len = delete_count(data_len)"
   ]
  },
  {
   "cell_type": "markdown",
   "metadata": {},
   "source": [
    "### Проверка на дубликаты"
   ]
  },
  {
   "cell_type": "markdown",
   "metadata": {},
   "source": [
    "Объединим два вида топлива в один."
   ]
  },
  {
   "cell_type": "code",
   "execution_count": 24,
   "metadata": {},
   "outputs": [
    {
     "data": {
      "text/plain": [
       "array(['petrol', nan, 'lpg', 'other', 'hybrid', 'cng', 'electric'],\n",
       "      dtype=object)"
      ]
     },
     "execution_count": 24,
     "metadata": {},
     "output_type": "execute_result"
    }
   ],
   "source": [
    "data.loc[data['FuelType'] == \"gasoline\", 'FuelType'] = \"petrol\"\n",
    "# проверка\n",
    "data['FuelType'].unique()"
   ]
  },
  {
   "cell_type": "markdown",
   "metadata": {},
   "source": [
    "Проверим датафреймы на явные дубликаты."
   ]
  },
  {
   "cell_type": "code",
   "execution_count": 25,
   "metadata": {},
   "outputs": [
    {
     "data": {
      "text/plain": [
       "4"
      ]
     },
     "execution_count": 25,
     "metadata": {},
     "output_type": "execute_result"
    }
   ],
   "source": [
    "# приведение к нижнему регистру\n",
    "data = data.applymap(lambda s: s.lower() if type(s) == str else s)\n",
    "\n",
    "data.duplicated().sum()"
   ]
  },
  {
   "cell_type": "code",
   "execution_count": 26,
   "metadata": {},
   "outputs": [
    {
     "data": {
      "text/html": [
       "<div>\n",
       "<style scoped>\n",
       "    .dataframe tbody tr th:only-of-type {\n",
       "        vertical-align: middle;\n",
       "    }\n",
       "\n",
       "    .dataframe tbody tr th {\n",
       "        vertical-align: top;\n",
       "    }\n",
       "\n",
       "    .dataframe thead th {\n",
       "        text-align: right;\n",
       "    }\n",
       "</style>\n",
       "<table border=\"1\" class=\"dataframe\">\n",
       "  <thead>\n",
       "    <tr style=\"text-align: right;\">\n",
       "      <th></th>\n",
       "      <th>DateCrawled</th>\n",
       "      <th>Price</th>\n",
       "      <th>VehicleType</th>\n",
       "      <th>RegistrationYear</th>\n",
       "      <th>Gearbox</th>\n",
       "      <th>Power</th>\n",
       "      <th>Model</th>\n",
       "      <th>Kilometer</th>\n",
       "      <th>RegistrationMonth</th>\n",
       "      <th>FuelType</th>\n",
       "      <th>Brand</th>\n",
       "      <th>Repaired</th>\n",
       "      <th>DateCreated</th>\n",
       "      <th>PostalCode</th>\n",
       "      <th>LastSeen</th>\n",
       "    </tr>\n",
       "  </thead>\n",
       "  <tbody>\n",
       "    <tr>\n",
       "      <th>41529</th>\n",
       "      <td>2016-03-18 18:46:15</td>\n",
       "      <td>1999</td>\n",
       "      <td>wagon</td>\n",
       "      <td>2001</td>\n",
       "      <td>manual</td>\n",
       "      <td>131</td>\n",
       "      <td>passat</td>\n",
       "      <td>150000</td>\n",
       "      <td>7</td>\n",
       "      <td>petrol</td>\n",
       "      <td>volkswagen</td>\n",
       "      <td>no</td>\n",
       "      <td>2016-03-18</td>\n",
       "      <td>36391</td>\n",
       "      <td>2016-03-18 18:46:15</td>\n",
       "    </tr>\n",
       "    <tr>\n",
       "      <th>88087</th>\n",
       "      <td>2016-03-08 18:42:48</td>\n",
       "      <td>1799</td>\n",
       "      <td>coupe</td>\n",
       "      <td>1999</td>\n",
       "      <td>auto</td>\n",
       "      <td>193</td>\n",
       "      <td>clk</td>\n",
       "      <td>20000</td>\n",
       "      <td>7</td>\n",
       "      <td>petrol</td>\n",
       "      <td>mercedes_benz</td>\n",
       "      <td>no</td>\n",
       "      <td>2016-03-08</td>\n",
       "      <td>89518</td>\n",
       "      <td>2016-03-09 09:46:57</td>\n",
       "    </tr>\n",
       "    <tr>\n",
       "      <th>90964</th>\n",
       "      <td>2016-03-28 00:56:10</td>\n",
       "      <td>1000</td>\n",
       "      <td>small</td>\n",
       "      <td>2002</td>\n",
       "      <td>manual</td>\n",
       "      <td>83</td>\n",
       "      <td>other</td>\n",
       "      <td>150000</td>\n",
       "      <td>1</td>\n",
       "      <td>petrol</td>\n",
       "      <td>suzuki</td>\n",
       "      <td>no</td>\n",
       "      <td>2016-03-28</td>\n",
       "      <td>66589</td>\n",
       "      <td>2016-03-28 08:46:21</td>\n",
       "    </tr>\n",
       "    <tr>\n",
       "      <th>171088</th>\n",
       "      <td>2016-03-08 18:42:48</td>\n",
       "      <td>1799</td>\n",
       "      <td>coupe</td>\n",
       "      <td>1999</td>\n",
       "      <td>auto</td>\n",
       "      <td>193</td>\n",
       "      <td>clk</td>\n",
       "      <td>20000</td>\n",
       "      <td>7</td>\n",
       "      <td>petrol</td>\n",
       "      <td>mercedes_benz</td>\n",
       "      <td>no</td>\n",
       "      <td>2016-03-08</td>\n",
       "      <td>89518</td>\n",
       "      <td>2016-03-09 09:46:57</td>\n",
       "    </tr>\n",
       "    <tr>\n",
       "      <th>187735</th>\n",
       "      <td>2016-04-03 09:01:15</td>\n",
       "      <td>4699</td>\n",
       "      <td>coupe</td>\n",
       "      <td>2003</td>\n",
       "      <td>auto</td>\n",
       "      <td>218</td>\n",
       "      <td>clk</td>\n",
       "      <td>125000</td>\n",
       "      <td>6</td>\n",
       "      <td>petrol</td>\n",
       "      <td>mercedes_benz</td>\n",
       "      <td>yes</td>\n",
       "      <td>2016-04-03</td>\n",
       "      <td>75196</td>\n",
       "      <td>2016-04-07 09:44:54</td>\n",
       "    </tr>\n",
       "    <tr>\n",
       "      <th>231258</th>\n",
       "      <td>2016-03-28 00:56:10</td>\n",
       "      <td>1000</td>\n",
       "      <td>small</td>\n",
       "      <td>2002</td>\n",
       "      <td>manual</td>\n",
       "      <td>83</td>\n",
       "      <td>other</td>\n",
       "      <td>150000</td>\n",
       "      <td>1</td>\n",
       "      <td>petrol</td>\n",
       "      <td>suzuki</td>\n",
       "      <td>no</td>\n",
       "      <td>2016-03-28</td>\n",
       "      <td>66589</td>\n",
       "      <td>2016-03-28 08:46:21</td>\n",
       "    </tr>\n",
       "    <tr>\n",
       "      <th>258109</th>\n",
       "      <td>2016-04-03 09:01:15</td>\n",
       "      <td>4699</td>\n",
       "      <td>coupe</td>\n",
       "      <td>2003</td>\n",
       "      <td>auto</td>\n",
       "      <td>218</td>\n",
       "      <td>clk</td>\n",
       "      <td>125000</td>\n",
       "      <td>6</td>\n",
       "      <td>petrol</td>\n",
       "      <td>mercedes_benz</td>\n",
       "      <td>yes</td>\n",
       "      <td>2016-04-03</td>\n",
       "      <td>75196</td>\n",
       "      <td>2016-04-07 09:44:54</td>\n",
       "    </tr>\n",
       "    <tr>\n",
       "      <th>325651</th>\n",
       "      <td>2016-03-18 18:46:15</td>\n",
       "      <td>1999</td>\n",
       "      <td>wagon</td>\n",
       "      <td>2001</td>\n",
       "      <td>manual</td>\n",
       "      <td>131</td>\n",
       "      <td>passat</td>\n",
       "      <td>150000</td>\n",
       "      <td>7</td>\n",
       "      <td>petrol</td>\n",
       "      <td>volkswagen</td>\n",
       "      <td>no</td>\n",
       "      <td>2016-03-18</td>\n",
       "      <td>36391</td>\n",
       "      <td>2016-03-18 18:46:15</td>\n",
       "    </tr>\n",
       "  </tbody>\n",
       "</table>\n",
       "</div>"
      ],
      "text/plain": [
       "               DateCrawled  Price VehicleType  RegistrationYear Gearbox  \\\n",
       "41529  2016-03-18 18:46:15   1999       wagon              2001  manual   \n",
       "88087  2016-03-08 18:42:48   1799       coupe              1999    auto   \n",
       "90964  2016-03-28 00:56:10   1000       small              2002  manual   \n",
       "171088 2016-03-08 18:42:48   1799       coupe              1999    auto   \n",
       "187735 2016-04-03 09:01:15   4699       coupe              2003    auto   \n",
       "231258 2016-03-28 00:56:10   1000       small              2002  manual   \n",
       "258109 2016-04-03 09:01:15   4699       coupe              2003    auto   \n",
       "325651 2016-03-18 18:46:15   1999       wagon              2001  manual   \n",
       "\n",
       "        Power   Model  Kilometer  RegistrationMonth FuelType          Brand  \\\n",
       "41529     131  passat     150000                  7   petrol     volkswagen   \n",
       "88087     193     clk      20000                  7   petrol  mercedes_benz   \n",
       "90964      83   other     150000                  1   petrol         suzuki   \n",
       "171088    193     clk      20000                  7   petrol  mercedes_benz   \n",
       "187735    218     clk     125000                  6   petrol  mercedes_benz   \n",
       "231258     83   other     150000                  1   petrol         suzuki   \n",
       "258109    218     clk     125000                  6   petrol  mercedes_benz   \n",
       "325651    131  passat     150000                  7   petrol     volkswagen   \n",
       "\n",
       "       Repaired DateCreated  PostalCode            LastSeen  \n",
       "41529        no  2016-03-18       36391 2016-03-18 18:46:15  \n",
       "88087        no  2016-03-08       89518 2016-03-09 09:46:57  \n",
       "90964        no  2016-03-28       66589 2016-03-28 08:46:21  \n",
       "171088       no  2016-03-08       89518 2016-03-09 09:46:57  \n",
       "187735      yes  2016-04-03       75196 2016-04-07 09:44:54  \n",
       "231258       no  2016-03-28       66589 2016-03-28 08:46:21  \n",
       "258109      yes  2016-04-03       75196 2016-04-07 09:44:54  \n",
       "325651       no  2016-03-18       36391 2016-03-18 18:46:15  "
      ]
     },
     "execution_count": 26,
     "metadata": {},
     "output_type": "execute_result"
    }
   ],
   "source": [
    "data[data.duplicated(keep=False)]"
   ]
  },
  {
   "cell_type": "markdown",
   "metadata": {},
   "source": [
    "Удалим явные дубликаты и проверим датасет на неявные, а также на спецсимволы."
   ]
  },
  {
   "cell_type": "code",
   "execution_count": 27,
   "metadata": {},
   "outputs": [
    {
     "name": "stdout",
     "output_type": "stream",
     "text": [
      "Удалено 4 строк(и) из 292840 (0.0%)\n"
     ]
    }
   ],
   "source": [
    "data.drop_duplicates(inplace=True)\n",
    "data_len = delete_count(data_len)"
   ]
  },
  {
   "cell_type": "code",
   "execution_count": 28,
   "metadata": {
    "run_control": {
     "marked": true
    }
   },
   "outputs": [
    {
     "name": "stdout",
     "output_type": "stream",
     "text": [
      "Спецсимволы не обнаружены\n"
     ]
    }
   ],
   "source": [
    "# переменная, которая содержит все спецсимволы, кроме подчеркивания\n",
    "temp = '\"!@#$%^&*()-+?=,<>/` ' + \"'\"\n",
    "\n",
    "# вспомогательный датафрейм\n",
    "symbols = pd.DataFrame()\n",
    "for i in temp:\n",
    "    if data['Model'].str.contains(pat=i, regex=False).sum() > 0:\n",
    "        symbols = pd.concat([\n",
    "            symbols, data[data['Model'].str.contains(pat=i, regex=False) == True]])\n",
    "if symbols.empty:\n",
    "    print('Спецсимволы не обнаружены')\n",
    "else: symbols"
   ]
  },
  {
   "cell_type": "code",
   "execution_count": 29,
   "metadata": {},
   "outputs": [
    {
     "data": {
      "text/plain": [
       "0"
      ]
     },
     "execution_count": 29,
     "metadata": {},
     "output_type": "execute_result"
    }
   ],
   "source": [
    "# создаем признак с названиями моделей, но без подчеркиваний\n",
    "data['model_check'] = data['Model']\n",
    "data['model_check'].replace({'_':''}, regex=True, inplace=True)\n",
    "\n",
    "# проверка на явные дубликаты без подчеркиваний\n",
    "data.drop('Model', axis=1).duplicated().sum()"
   ]
  },
  {
   "cell_type": "code",
   "execution_count": 30,
   "metadata": {},
   "outputs": [
    {
     "data": {
      "text/plain": [
       "34183"
      ]
     },
     "execution_count": 30,
     "metadata": {},
     "output_type": "execute_result"
    }
   ],
   "source": [
    "# проверка на неявные дубликаты по ключевым столбцам\n",
    "dupl = ['model_check', 'Brand', 'RegistrationYear',\n",
    "        'VehicleType', 'PostalCode', 'Power', 'RegistrationMonth', 'Kilometer',\n",
    "        'Gearbox', 'FuelType']\n",
    "\n",
    "data.duplicated(subset=dupl).sum()"
   ]
  },
  {
   "cell_type": "markdown",
   "metadata": {},
   "source": [
    "Будем считать, что наиболее актуальная информация содержится в объектах с более поздним `DateCreated`."
   ]
  },
  {
   "cell_type": "code",
   "execution_count": 31,
   "metadata": {
    "scrolled": true
   },
   "outputs": [
    {
     "name": "stdout",
     "output_type": "stream",
     "text": [
      "Удалено 34183 строк(и) из 292836 (11.67%)\n"
     ]
    }
   ],
   "source": [
    "# сортируем датасет, чтобы более поздние даты оказались ниже\n",
    "# из дубликатов оставляем последние\n",
    "data.sort_values(by='DateCreated', inplace=True)\n",
    "data.drop_duplicates(subset=dupl, inplace=True, keep='last')\n",
    "\n",
    "data_len = delete_count(data_len)"
   ]
  },
  {
   "cell_type": "code",
   "execution_count": 32,
   "metadata": {},
   "outputs": [],
   "source": [
    "# удаляем временный признак\n",
    "data.drop('model_check', axis=1, inplace=True)"
   ]
  },
  {
   "cell_type": "markdown",
   "metadata": {},
   "source": [
    "### Заполнение пропусков"
   ]
  },
  {
   "cell_type": "markdown",
   "metadata": {},
   "source": [
    "Заполним пропуски в признаках `VehicleType`, `Gearbox`, `Model`, `FuelType` и `Repaired`.\n",
    "\n",
    "Тип кузова заполним по наиболее встречающимся кузовам среди брендов."
   ]
  },
  {
   "cell_type": "code",
   "execution_count": 33,
   "metadata": {},
   "outputs": [],
   "source": [
    "'''\n",
    "Функция для заполнения пропусков.\n",
    "Принимает название столбца, в которм есть пропуски.\n",
    "Выводит таблицу по брендам и выбранному признаку, далее формирует словарь,\n",
    "с модами для каждого бренда, и также выводит его на экран.\n",
    "Далее заменяет пропуски в выбранном столбце с помощью словаря.\n",
    "'''\n",
    "\n",
    "def fill_data(column):\n",
    "    \n",
    "    # создаем и выводим таблицу с брендом\n",
    "    table = data.pivot_table(values='Price', index='Brand', columns=column, aggfunc='count')\n",
    "    display(table.head())\n",
    "    \n",
    "    # заполняем NaN, чтобы idxmax сработал\n",
    "    table.fillna(value=0)\n",
    "    \n",
    "    # создаем словарь из индексов и наиболее часто встречающихся значений для каждого бренда\n",
    "    table['max'] = table.idxmax(axis=1)\n",
    "    table_dict = dict(zip(table.index, table['max']))\n",
    "    print(table_dict)\n",
    "    \n",
    "    # запоминаем индексы с пропусками\n",
    "    temp = data[column].isna()\n",
    "\n",
    "    # записываем вместо пропусков значения столбца бренд, а затем заменяем эти значения на словарные\n",
    "    data.loc[temp, column] = data.loc[temp, 'Brand']\n",
    "    data.loc[temp, column] = data.loc[temp, column].map(table_dict)\n",
    "    data[temp].head()"
   ]
  },
  {
   "cell_type": "code",
   "execution_count": 34,
   "metadata": {},
   "outputs": [
    {
     "data": {
      "text/html": [
       "<div>\n",
       "<style scoped>\n",
       "    .dataframe tbody tr th:only-of-type {\n",
       "        vertical-align: middle;\n",
       "    }\n",
       "\n",
       "    .dataframe tbody tr th {\n",
       "        vertical-align: top;\n",
       "    }\n",
       "\n",
       "    .dataframe thead th {\n",
       "        text-align: right;\n",
       "    }\n",
       "</style>\n",
       "<table border=\"1\" class=\"dataframe\">\n",
       "  <thead>\n",
       "    <tr style=\"text-align: right;\">\n",
       "      <th>VehicleType</th>\n",
       "      <th>bus</th>\n",
       "      <th>convertible</th>\n",
       "      <th>coupe</th>\n",
       "      <th>other</th>\n",
       "      <th>sedan</th>\n",
       "      <th>small</th>\n",
       "      <th>suv</th>\n",
       "      <th>wagon</th>\n",
       "    </tr>\n",
       "    <tr>\n",
       "      <th>Brand</th>\n",
       "      <th></th>\n",
       "      <th></th>\n",
       "      <th></th>\n",
       "      <th></th>\n",
       "      <th></th>\n",
       "      <th></th>\n",
       "      <th></th>\n",
       "      <th></th>\n",
       "    </tr>\n",
       "  </thead>\n",
       "  <tbody>\n",
       "    <tr>\n",
       "      <th>alfa_romeo</th>\n",
       "      <td>NaN</td>\n",
       "      <td>124.0</td>\n",
       "      <td>182.0</td>\n",
       "      <td>11.0</td>\n",
       "      <td>772.0</td>\n",
       "      <td>209.0</td>\n",
       "      <td>NaN</td>\n",
       "      <td>382.0</td>\n",
       "    </tr>\n",
       "    <tr>\n",
       "      <th>audi</th>\n",
       "      <td>8.0</td>\n",
       "      <td>1381.0</td>\n",
       "      <td>1164.0</td>\n",
       "      <td>80.0</td>\n",
       "      <td>8353.0</td>\n",
       "      <td>1205.0</td>\n",
       "      <td>83.0</td>\n",
       "      <td>8836.0</td>\n",
       "    </tr>\n",
       "    <tr>\n",
       "      <th>bmw</th>\n",
       "      <td>4.0</td>\n",
       "      <td>2599.0</td>\n",
       "      <td>2813.0</td>\n",
       "      <td>197.0</td>\n",
       "      <td>13405.0</td>\n",
       "      <td>371.0</td>\n",
       "      <td>540.0</td>\n",
       "      <td>6278.0</td>\n",
       "    </tr>\n",
       "    <tr>\n",
       "      <th>chevrolet</th>\n",
       "      <td>128.0</td>\n",
       "      <td>10.0</td>\n",
       "      <td>24.0</td>\n",
       "      <td>17.0</td>\n",
       "      <td>163.0</td>\n",
       "      <td>469.0</td>\n",
       "      <td>227.0</td>\n",
       "      <td>84.0</td>\n",
       "    </tr>\n",
       "    <tr>\n",
       "      <th>chrysler</th>\n",
       "      <td>353.0</td>\n",
       "      <td>197.0</td>\n",
       "      <td>34.0</td>\n",
       "      <td>7.0</td>\n",
       "      <td>216.0</td>\n",
       "      <td>11.0</td>\n",
       "      <td>12.0</td>\n",
       "      <td>205.0</td>\n",
       "    </tr>\n",
       "  </tbody>\n",
       "</table>\n",
       "</div>"
      ],
      "text/plain": [
       "VehicleType    bus  convertible   coupe  other    sedan   small    suv   wagon\n",
       "Brand                                                                         \n",
       "alfa_romeo     NaN        124.0   182.0   11.0    772.0   209.0    NaN   382.0\n",
       "audi           8.0       1381.0  1164.0   80.0   8353.0  1205.0   83.0  8836.0\n",
       "bmw            4.0       2599.0  2813.0  197.0  13405.0   371.0  540.0  6278.0\n",
       "chevrolet    128.0         10.0    24.0   17.0    163.0   469.0  227.0    84.0\n",
       "chrysler     353.0        197.0    34.0    7.0    216.0    11.0   12.0   205.0"
      ]
     },
     "metadata": {},
     "output_type": "display_data"
    },
    {
     "name": "stdout",
     "output_type": "stream",
     "text": [
      "{'alfa_romeo': 'sedan', 'audi': 'wagon', 'bmw': 'sedan', 'chevrolet': 'small', 'chrysler': 'bus', 'citroen': 'small', 'dacia': 'wagon', 'daewoo': 'small', 'daihatsu': 'small', 'fiat': 'small', 'ford': 'small', 'honda': 'sedan', 'hyundai': 'small', 'jaguar': 'sedan', 'jeep': 'suv', 'kia': 'suv', 'lada': 'suv', 'lancia': 'small', 'land_rover': 'suv', 'mazda': 'sedan', 'mercedes_benz': 'sedan', 'mini': 'small', 'mitsubishi': 'sedan', 'nissan': 'small', 'opel': 'small', 'peugeot': 'small', 'porsche': 'convertible', 'renault': 'small', 'rover': 'sedan', 'saab': 'sedan', 'seat': 'small', 'skoda': 'wagon', 'smart': 'small', 'sonstige_autos': 'suv', 'subaru': 'wagon', 'suzuki': 'small', 'toyota': 'small', 'trabant': 'sedan', 'volkswagen': 'sedan', 'volvo': 'wagon'}\n"
     ]
    }
   ],
   "source": [
    "fill_data('VehicleType')"
   ]
  },
  {
   "cell_type": "code",
   "execution_count": 35,
   "metadata": {},
   "outputs": [
    {
     "data": {
      "text/html": [
       "<div>\n",
       "<style scoped>\n",
       "    .dataframe tbody tr th:only-of-type {\n",
       "        vertical-align: middle;\n",
       "    }\n",
       "\n",
       "    .dataframe tbody tr th {\n",
       "        vertical-align: top;\n",
       "    }\n",
       "\n",
       "    .dataframe thead th {\n",
       "        text-align: right;\n",
       "    }\n",
       "</style>\n",
       "<table border=\"1\" class=\"dataframe\">\n",
       "  <thead>\n",
       "    <tr style=\"text-align: right;\">\n",
       "      <th>Model</th>\n",
       "      <th>100</th>\n",
       "      <th>145</th>\n",
       "      <th>147</th>\n",
       "      <th>156</th>\n",
       "      <th>159</th>\n",
       "      <th>1_reihe</th>\n",
       "      <th>1er</th>\n",
       "      <th>200</th>\n",
       "      <th>2_reihe</th>\n",
       "      <th>300c</th>\n",
       "      <th>...</th>\n",
       "      <th>wrangler</th>\n",
       "      <th>x_reihe</th>\n",
       "      <th>x_trail</th>\n",
       "      <th>x_type</th>\n",
       "      <th>xc_reihe</th>\n",
       "      <th>yaris</th>\n",
       "      <th>yeti</th>\n",
       "      <th>ypsilon</th>\n",
       "      <th>z_reihe</th>\n",
       "      <th>zafira</th>\n",
       "    </tr>\n",
       "    <tr>\n",
       "      <th>Brand</th>\n",
       "      <th></th>\n",
       "      <th></th>\n",
       "      <th></th>\n",
       "      <th></th>\n",
       "      <th></th>\n",
       "      <th></th>\n",
       "      <th></th>\n",
       "      <th></th>\n",
       "      <th></th>\n",
       "      <th></th>\n",
       "      <th></th>\n",
       "      <th></th>\n",
       "      <th></th>\n",
       "      <th></th>\n",
       "      <th></th>\n",
       "      <th></th>\n",
       "      <th></th>\n",
       "      <th></th>\n",
       "      <th></th>\n",
       "      <th></th>\n",
       "      <th></th>\n",
       "    </tr>\n",
       "  </thead>\n",
       "  <tbody>\n",
       "    <tr>\n",
       "      <th>alfa_romeo</th>\n",
       "      <td>NaN</td>\n",
       "      <td>39.0</td>\n",
       "      <td>441.0</td>\n",
       "      <td>487.0</td>\n",
       "      <td>175.0</td>\n",
       "      <td>NaN</td>\n",
       "      <td>NaN</td>\n",
       "      <td>NaN</td>\n",
       "      <td>NaN</td>\n",
       "      <td>NaN</td>\n",
       "      <td>...</td>\n",
       "      <td>NaN</td>\n",
       "      <td>NaN</td>\n",
       "      <td>NaN</td>\n",
       "      <td>NaN</td>\n",
       "      <td>NaN</td>\n",
       "      <td>NaN</td>\n",
       "      <td>NaN</td>\n",
       "      <td>NaN</td>\n",
       "      <td>NaN</td>\n",
       "      <td>NaN</td>\n",
       "    </tr>\n",
       "    <tr>\n",
       "      <th>audi</th>\n",
       "      <td>279.0</td>\n",
       "      <td>NaN</td>\n",
       "      <td>NaN</td>\n",
       "      <td>NaN</td>\n",
       "      <td>NaN</td>\n",
       "      <td>NaN</td>\n",
       "      <td>NaN</td>\n",
       "      <td>9.0</td>\n",
       "      <td>NaN</td>\n",
       "      <td>NaN</td>\n",
       "      <td>...</td>\n",
       "      <td>NaN</td>\n",
       "      <td>NaN</td>\n",
       "      <td>NaN</td>\n",
       "      <td>NaN</td>\n",
       "      <td>NaN</td>\n",
       "      <td>NaN</td>\n",
       "      <td>NaN</td>\n",
       "      <td>NaN</td>\n",
       "      <td>NaN</td>\n",
       "      <td>NaN</td>\n",
       "    </tr>\n",
       "    <tr>\n",
       "      <th>bmw</th>\n",
       "      <td>NaN</td>\n",
       "      <td>NaN</td>\n",
       "      <td>NaN</td>\n",
       "      <td>NaN</td>\n",
       "      <td>NaN</td>\n",
       "      <td>NaN</td>\n",
       "      <td>2825.0</td>\n",
       "      <td>NaN</td>\n",
       "      <td>NaN</td>\n",
       "      <td>NaN</td>\n",
       "      <td>...</td>\n",
       "      <td>NaN</td>\n",
       "      <td>1176.0</td>\n",
       "      <td>NaN</td>\n",
       "      <td>NaN</td>\n",
       "      <td>NaN</td>\n",
       "      <td>NaN</td>\n",
       "      <td>NaN</td>\n",
       "      <td>NaN</td>\n",
       "      <td>583.0</td>\n",
       "      <td>NaN</td>\n",
       "    </tr>\n",
       "    <tr>\n",
       "      <th>chevrolet</th>\n",
       "      <td>NaN</td>\n",
       "      <td>NaN</td>\n",
       "      <td>NaN</td>\n",
       "      <td>NaN</td>\n",
       "      <td>NaN</td>\n",
       "      <td>NaN</td>\n",
       "      <td>NaN</td>\n",
       "      <td>NaN</td>\n",
       "      <td>NaN</td>\n",
       "      <td>NaN</td>\n",
       "      <td>...</td>\n",
       "      <td>NaN</td>\n",
       "      <td>NaN</td>\n",
       "      <td>NaN</td>\n",
       "      <td>NaN</td>\n",
       "      <td>NaN</td>\n",
       "      <td>NaN</td>\n",
       "      <td>NaN</td>\n",
       "      <td>NaN</td>\n",
       "      <td>NaN</td>\n",
       "      <td>NaN</td>\n",
       "    </tr>\n",
       "    <tr>\n",
       "      <th>chrysler</th>\n",
       "      <td>NaN</td>\n",
       "      <td>NaN</td>\n",
       "      <td>NaN</td>\n",
       "      <td>NaN</td>\n",
       "      <td>NaN</td>\n",
       "      <td>NaN</td>\n",
       "      <td>NaN</td>\n",
       "      <td>NaN</td>\n",
       "      <td>NaN</td>\n",
       "      <td>91.0</td>\n",
       "      <td>...</td>\n",
       "      <td>NaN</td>\n",
       "      <td>NaN</td>\n",
       "      <td>NaN</td>\n",
       "      <td>NaN</td>\n",
       "      <td>NaN</td>\n",
       "      <td>NaN</td>\n",
       "      <td>NaN</td>\n",
       "      <td>NaN</td>\n",
       "      <td>NaN</td>\n",
       "      <td>NaN</td>\n",
       "    </tr>\n",
       "  </tbody>\n",
       "</table>\n",
       "<p>5 rows × 246 columns</p>\n",
       "</div>"
      ],
      "text/plain": [
       "Model         100   145    147    156    159  1_reihe     1er  200  2_reihe  \\\n",
       "Brand                                                                         \n",
       "alfa_romeo    NaN  39.0  441.0  487.0  175.0      NaN     NaN  NaN      NaN   \n",
       "audi        279.0   NaN    NaN    NaN    NaN      NaN     NaN  9.0      NaN   \n",
       "bmw           NaN   NaN    NaN    NaN    NaN      NaN  2825.0  NaN      NaN   \n",
       "chevrolet     NaN   NaN    NaN    NaN    NaN      NaN     NaN  NaN      NaN   \n",
       "chrysler      NaN   NaN    NaN    NaN    NaN      NaN     NaN  NaN      NaN   \n",
       "\n",
       "Model       300c  ...  wrangler  x_reihe  x_trail  x_type  xc_reihe  yaris  \\\n",
       "Brand             ...                                                        \n",
       "alfa_romeo   NaN  ...       NaN      NaN      NaN     NaN       NaN    NaN   \n",
       "audi         NaN  ...       NaN      NaN      NaN     NaN       NaN    NaN   \n",
       "bmw          NaN  ...       NaN   1176.0      NaN     NaN       NaN    NaN   \n",
       "chevrolet    NaN  ...       NaN      NaN      NaN     NaN       NaN    NaN   \n",
       "chrysler    91.0  ...       NaN      NaN      NaN     NaN       NaN    NaN   \n",
       "\n",
       "Model       yeti  ypsilon  z_reihe  zafira  \n",
       "Brand                                       \n",
       "alfa_romeo   NaN      NaN      NaN     NaN  \n",
       "audi         NaN      NaN      NaN     NaN  \n",
       "bmw          NaN      NaN    583.0     NaN  \n",
       "chevrolet    NaN      NaN      NaN     NaN  \n",
       "chrysler     NaN      NaN      NaN     NaN  \n",
       "\n",
       "[5 rows x 246 columns]"
      ]
     },
     "metadata": {},
     "output_type": "display_data"
    },
    {
     "name": "stdout",
     "output_type": "stream",
     "text": [
      "{'alfa_romeo': '156', 'audi': 'a4', 'bmw': '3er', 'chevrolet': 'other', 'chrysler': 'other', 'citroen': 'other', 'dacia': 'logan', 'daewoo': 'matiz', 'daihatsu': 'cuore', 'fiat': 'punto', 'ford': 'focus', 'honda': 'civic', 'hyundai': 'i_reihe', 'jaguar': 'x_type', 'jeep': 'grand', 'kia': 'other', 'lada': 'niva', 'lancia': 'ypsilon', 'land_rover': 'freelander', 'mazda': '6_reihe', 'mercedes_benz': 'c_klasse', 'mini': 'cooper', 'mitsubishi': 'colt', 'nissan': 'micra', 'opel': 'corsa', 'peugeot': '2_reihe', 'porsche': 'boxster', 'renault': 'twingo', 'rover': 'other', 'saab': 'other', 'seat': 'ibiza', 'skoda': 'octavia', 'smart': 'fortwo', 'subaru': 'impreza', 'suzuki': 'other', 'toyota': 'yaris', 'trabant': '601', 'volkswagen': 'golf', 'volvo': 'v40'}\n"
     ]
    }
   ],
   "source": [
    "fill_data('Model')"
   ]
  },
  {
   "cell_type": "code",
   "execution_count": 36,
   "metadata": {},
   "outputs": [
    {
     "data": {
      "text/html": [
       "<div>\n",
       "<style scoped>\n",
       "    .dataframe tbody tr th:only-of-type {\n",
       "        vertical-align: middle;\n",
       "    }\n",
       "\n",
       "    .dataframe tbody tr th {\n",
       "        vertical-align: top;\n",
       "    }\n",
       "\n",
       "    .dataframe thead th {\n",
       "        text-align: right;\n",
       "    }\n",
       "</style>\n",
       "<table border=\"1\" class=\"dataframe\">\n",
       "  <thead>\n",
       "    <tr style=\"text-align: right;\">\n",
       "      <th>Gearbox</th>\n",
       "      <th>auto</th>\n",
       "      <th>manual</th>\n",
       "    </tr>\n",
       "    <tr>\n",
       "      <th>Brand</th>\n",
       "      <th></th>\n",
       "      <th></th>\n",
       "    </tr>\n",
       "  </thead>\n",
       "  <tbody>\n",
       "    <tr>\n",
       "      <th>alfa_romeo</th>\n",
       "      <td>113.0</td>\n",
       "      <td>1578.0</td>\n",
       "    </tr>\n",
       "    <tr>\n",
       "      <th>audi</th>\n",
       "      <td>6093.0</td>\n",
       "      <td>15113.0</td>\n",
       "    </tr>\n",
       "    <tr>\n",
       "      <th>bmw</th>\n",
       "      <td>7463.0</td>\n",
       "      <td>18814.0</td>\n",
       "    </tr>\n",
       "    <tr>\n",
       "      <th>chevrolet</th>\n",
       "      <td>323.0</td>\n",
       "      <td>798.0</td>\n",
       "    </tr>\n",
       "    <tr>\n",
       "      <th>chrysler</th>\n",
       "      <td>546.0</td>\n",
       "      <td>490.0</td>\n",
       "    </tr>\n",
       "  </tbody>\n",
       "</table>\n",
       "</div>"
      ],
      "text/plain": [
       "Gearbox       auto   manual\n",
       "Brand                      \n",
       "alfa_romeo   113.0   1578.0\n",
       "audi        6093.0  15113.0\n",
       "bmw         7463.0  18814.0\n",
       "chevrolet    323.0    798.0\n",
       "chrysler     546.0    490.0"
      ]
     },
     "metadata": {},
     "output_type": "display_data"
    },
    {
     "name": "stdout",
     "output_type": "stream",
     "text": [
      "{'alfa_romeo': 'manual', 'audi': 'manual', 'bmw': 'manual', 'chevrolet': 'manual', 'chrysler': 'auto', 'citroen': 'manual', 'dacia': 'manual', 'daewoo': 'manual', 'daihatsu': 'manual', 'fiat': 'manual', 'ford': 'manual', 'honda': 'manual', 'hyundai': 'manual', 'jaguar': 'auto', 'jeep': 'auto', 'kia': 'manual', 'lada': 'manual', 'lancia': 'manual', 'land_rover': 'manual', 'mazda': 'manual', 'mercedes_benz': 'auto', 'mini': 'manual', 'mitsubishi': 'manual', 'nissan': 'manual', 'opel': 'manual', 'peugeot': 'manual', 'porsche': 'manual', 'renault': 'manual', 'rover': 'manual', 'saab': 'manual', 'seat': 'manual', 'skoda': 'manual', 'smart': 'auto', 'sonstige_autos': 'manual', 'subaru': 'manual', 'suzuki': 'manual', 'toyota': 'manual', 'trabant': 'manual', 'volkswagen': 'manual', 'volvo': 'manual'}\n"
     ]
    }
   ],
   "source": [
    "fill_data('Gearbox')"
   ]
  },
  {
   "cell_type": "code",
   "execution_count": 37,
   "metadata": {},
   "outputs": [
    {
     "data": {
      "text/html": [
       "<div>\n",
       "<style scoped>\n",
       "    .dataframe tbody tr th:only-of-type {\n",
       "        vertical-align: middle;\n",
       "    }\n",
       "\n",
       "    .dataframe tbody tr th {\n",
       "        vertical-align: top;\n",
       "    }\n",
       "\n",
       "    .dataframe thead th {\n",
       "        text-align: right;\n",
       "    }\n",
       "</style>\n",
       "<table border=\"1\" class=\"dataframe\">\n",
       "  <thead>\n",
       "    <tr style=\"text-align: right;\">\n",
       "      <th>FuelType</th>\n",
       "      <th>cng</th>\n",
       "      <th>electric</th>\n",
       "      <th>hybrid</th>\n",
       "      <th>lpg</th>\n",
       "      <th>other</th>\n",
       "      <th>petrol</th>\n",
       "    </tr>\n",
       "    <tr>\n",
       "      <th>Brand</th>\n",
       "      <th></th>\n",
       "      <th></th>\n",
       "      <th></th>\n",
       "      <th></th>\n",
       "      <th></th>\n",
       "      <th></th>\n",
       "    </tr>\n",
       "  </thead>\n",
       "  <tbody>\n",
       "    <tr>\n",
       "      <th>alfa_romeo</th>\n",
       "      <td>NaN</td>\n",
       "      <td>NaN</td>\n",
       "      <td>NaN</td>\n",
       "      <td>27.0</td>\n",
       "      <td>NaN</td>\n",
       "      <td>1607.0</td>\n",
       "    </tr>\n",
       "    <tr>\n",
       "      <th>audi</th>\n",
       "      <td>NaN</td>\n",
       "      <td>2.0</td>\n",
       "      <td>1.0</td>\n",
       "      <td>310.0</td>\n",
       "      <td>1.0</td>\n",
       "      <td>20196.0</td>\n",
       "    </tr>\n",
       "    <tr>\n",
       "      <th>bmw</th>\n",
       "      <td>7.0</td>\n",
       "      <td>2.0</td>\n",
       "      <td>NaN</td>\n",
       "      <td>493.0</td>\n",
       "      <td>4.0</td>\n",
       "      <td>24853.0</td>\n",
       "    </tr>\n",
       "    <tr>\n",
       "      <th>chevrolet</th>\n",
       "      <td>4.0</td>\n",
       "      <td>NaN</td>\n",
       "      <td>NaN</td>\n",
       "      <td>127.0</td>\n",
       "      <td>NaN</td>\n",
       "      <td>966.0</td>\n",
       "    </tr>\n",
       "    <tr>\n",
       "      <th>chrysler</th>\n",
       "      <td>NaN</td>\n",
       "      <td>NaN</td>\n",
       "      <td>NaN</td>\n",
       "      <td>71.0</td>\n",
       "      <td>NaN</td>\n",
       "      <td>928.0</td>\n",
       "    </tr>\n",
       "  </tbody>\n",
       "</table>\n",
       "</div>"
      ],
      "text/plain": [
       "FuelType    cng  electric  hybrid    lpg  other   petrol\n",
       "Brand                                                   \n",
       "alfa_romeo  NaN       NaN     NaN   27.0    NaN   1607.0\n",
       "audi        NaN       2.0     1.0  310.0    1.0  20196.0\n",
       "bmw         7.0       2.0     NaN  493.0    4.0  24853.0\n",
       "chevrolet   4.0       NaN     NaN  127.0    NaN    966.0\n",
       "chrysler    NaN       NaN     NaN   71.0    NaN    928.0"
      ]
     },
     "metadata": {},
     "output_type": "display_data"
    },
    {
     "name": "stdout",
     "output_type": "stream",
     "text": [
      "{'alfa_romeo': 'petrol', 'audi': 'petrol', 'bmw': 'petrol', 'chevrolet': 'petrol', 'chrysler': 'petrol', 'citroen': 'petrol', 'dacia': 'petrol', 'daewoo': 'petrol', 'daihatsu': 'petrol', 'fiat': 'petrol', 'ford': 'petrol', 'honda': 'petrol', 'hyundai': 'petrol', 'jaguar': 'petrol', 'jeep': 'petrol', 'kia': 'petrol', 'lada': 'petrol', 'lancia': 'petrol', 'land_rover': 'petrol', 'mazda': 'petrol', 'mercedes_benz': 'petrol', 'mini': 'petrol', 'mitsubishi': 'petrol', 'nissan': 'petrol', 'opel': 'petrol', 'peugeot': 'petrol', 'porsche': 'petrol', 'renault': 'petrol', 'rover': 'petrol', 'saab': 'petrol', 'seat': 'petrol', 'skoda': 'petrol', 'smart': 'petrol', 'sonstige_autos': 'petrol', 'subaru': 'petrol', 'suzuki': 'petrol', 'toyota': 'petrol', 'trabant': 'petrol', 'volkswagen': 'petrol', 'volvo': 'petrol'}\n"
     ]
    }
   ],
   "source": [
    "fill_data('FuelType')"
   ]
  },
  {
   "cell_type": "markdown",
   "metadata": {},
   "source": [
    "В признаке `Repaired` заполним пропуски значением `unknown`."
   ]
  },
  {
   "cell_type": "code",
   "execution_count": 38,
   "metadata": {
    "run_control": {
     "marked": true
    }
   },
   "outputs": [
    {
     "data": {
      "text/plain": [
       "DateCrawled             0\n",
       "Price                   0\n",
       "VehicleType             0\n",
       "RegistrationYear        0\n",
       "Gearbox                 0\n",
       "Power                   0\n",
       "Model                1324\n",
       "Kilometer               0\n",
       "RegistrationMonth       0\n",
       "FuelType                0\n",
       "Brand                   0\n",
       "Repaired                0\n",
       "DateCreated             0\n",
       "PostalCode              0\n",
       "LastSeen                0\n",
       "dtype: int64"
      ]
     },
     "execution_count": 38,
     "metadata": {},
     "output_type": "execute_result"
    }
   ],
   "source": [
    "data['Repaired'].fillna('unknown', inplace=True)\n",
    "# проверка\n",
    "data.isna().sum()"
   ]
  },
  {
   "cell_type": "markdown",
   "metadata": {},
   "source": [
    "В модели остались незаполненные значения, скорее всего это связано с брендом."
   ]
  },
  {
   "cell_type": "code",
   "execution_count": 39,
   "metadata": {},
   "outputs": [
    {
     "data": {
      "text/html": [
       "<div>\n",
       "<style scoped>\n",
       "    .dataframe tbody tr th:only-of-type {\n",
       "        vertical-align: middle;\n",
       "    }\n",
       "\n",
       "    .dataframe tbody tr th {\n",
       "        vertical-align: top;\n",
       "    }\n",
       "\n",
       "    .dataframe thead th {\n",
       "        text-align: right;\n",
       "    }\n",
       "</style>\n",
       "<table border=\"1\" class=\"dataframe\">\n",
       "  <thead>\n",
       "    <tr style=\"text-align: right;\">\n",
       "      <th></th>\n",
       "      <th>DateCrawled</th>\n",
       "      <th>Price</th>\n",
       "      <th>VehicleType</th>\n",
       "      <th>RegistrationYear</th>\n",
       "      <th>Gearbox</th>\n",
       "      <th>Power</th>\n",
       "      <th>Model</th>\n",
       "      <th>Kilometer</th>\n",
       "      <th>RegistrationMonth</th>\n",
       "      <th>FuelType</th>\n",
       "      <th>Brand</th>\n",
       "      <th>Repaired</th>\n",
       "      <th>DateCreated</th>\n",
       "      <th>PostalCode</th>\n",
       "      <th>LastSeen</th>\n",
       "    </tr>\n",
       "  </thead>\n",
       "  <tbody>\n",
       "    <tr>\n",
       "      <th>94838</th>\n",
       "      <td>2016-03-05 14:50:35</td>\n",
       "      <td>999</td>\n",
       "      <td>suv</td>\n",
       "      <td>2015</td>\n",
       "      <td>manual</td>\n",
       "      <td>0</td>\n",
       "      <td>NaN</td>\n",
       "      <td>5000</td>\n",
       "      <td>0</td>\n",
       "      <td>petrol</td>\n",
       "      <td>sonstige_autos</td>\n",
       "      <td>unknown</td>\n",
       "      <td>2016-02-03</td>\n",
       "      <td>19249</td>\n",
       "      <td>2016-04-05 11:45:25</td>\n",
       "    </tr>\n",
       "    <tr>\n",
       "      <th>291861</th>\n",
       "      <td>2016-03-06 03:43:15</td>\n",
       "      <td>2900</td>\n",
       "      <td>convertible</td>\n",
       "      <td>2002</td>\n",
       "      <td>auto</td>\n",
       "      <td>10</td>\n",
       "      <td>NaN</td>\n",
       "      <td>30000</td>\n",
       "      <td>6</td>\n",
       "      <td>petrol</td>\n",
       "      <td>sonstige_autos</td>\n",
       "      <td>no</td>\n",
       "      <td>2016-02-29</td>\n",
       "      <td>8132</td>\n",
       "      <td>2016-03-10 15:45:22</td>\n",
       "    </tr>\n",
       "    <tr>\n",
       "      <th>331067</th>\n",
       "      <td>2016-03-05 16:56:42</td>\n",
       "      <td>10900</td>\n",
       "      <td>small</td>\n",
       "      <td>2014</td>\n",
       "      <td>auto</td>\n",
       "      <td>5</td>\n",
       "      <td>NaN</td>\n",
       "      <td>20000</td>\n",
       "      <td>3</td>\n",
       "      <td>petrol</td>\n",
       "      <td>sonstige_autos</td>\n",
       "      <td>no</td>\n",
       "      <td>2016-03-03</td>\n",
       "      <td>86462</td>\n",
       "      <td>2016-04-06 17:17:02</td>\n",
       "    </tr>\n",
       "    <tr>\n",
       "      <th>80184</th>\n",
       "      <td>2016-03-05 14:14:14</td>\n",
       "      <td>4850</td>\n",
       "      <td>suv</td>\n",
       "      <td>2001</td>\n",
       "      <td>auto</td>\n",
       "      <td>238</td>\n",
       "      <td>NaN</td>\n",
       "      <td>150000</td>\n",
       "      <td>5</td>\n",
       "      <td>lpg</td>\n",
       "      <td>sonstige_autos</td>\n",
       "      <td>no</td>\n",
       "      <td>2016-03-03</td>\n",
       "      <td>65232</td>\n",
       "      <td>2016-03-08 16:52:08</td>\n",
       "    </tr>\n",
       "    <tr>\n",
       "      <th>194163</th>\n",
       "      <td>2016-03-05 14:21:42</td>\n",
       "      <td>8900</td>\n",
       "      <td>suv</td>\n",
       "      <td>2015</td>\n",
       "      <td>manual</td>\n",
       "      <td>50</td>\n",
       "      <td>NaN</td>\n",
       "      <td>5000</td>\n",
       "      <td>4</td>\n",
       "      <td>petrol</td>\n",
       "      <td>sonstige_autos</td>\n",
       "      <td>no</td>\n",
       "      <td>2016-03-04</td>\n",
       "      <td>56335</td>\n",
       "      <td>2016-04-06 00:47:06</td>\n",
       "    </tr>\n",
       "  </tbody>\n",
       "</table>\n",
       "</div>"
      ],
      "text/plain": [
       "               DateCrawled  Price  VehicleType  RegistrationYear Gearbox  \\\n",
       "94838  2016-03-05 14:50:35    999          suv              2015  manual   \n",
       "291861 2016-03-06 03:43:15   2900  convertible              2002    auto   \n",
       "331067 2016-03-05 16:56:42  10900        small              2014    auto   \n",
       "80184  2016-03-05 14:14:14   4850          suv              2001    auto   \n",
       "194163 2016-03-05 14:21:42   8900          suv              2015  manual   \n",
       "\n",
       "        Power Model  Kilometer  RegistrationMonth FuelType           Brand  \\\n",
       "94838       0   NaN       5000                  0   petrol  sonstige_autos   \n",
       "291861     10   NaN      30000                  6   petrol  sonstige_autos   \n",
       "331067      5   NaN      20000                  3   petrol  sonstige_autos   \n",
       "80184     238   NaN     150000                  5      lpg  sonstige_autos   \n",
       "194163     50   NaN       5000                  4   petrol  sonstige_autos   \n",
       "\n",
       "       Repaired DateCreated  PostalCode            LastSeen  \n",
       "94838   unknown  2016-02-03       19249 2016-04-05 11:45:25  \n",
       "291861       no  2016-02-29        8132 2016-03-10 15:45:22  \n",
       "331067       no  2016-03-03       86462 2016-04-06 17:17:02  \n",
       "80184        no  2016-03-03       65232 2016-03-08 16:52:08  \n",
       "194163       no  2016-03-04       56335 2016-04-06 00:47:06  "
      ]
     },
     "execution_count": 39,
     "metadata": {},
     "output_type": "execute_result"
    }
   ],
   "source": [
    "data.query(\"Model.isna()\").head()"
   ]
  },
  {
   "cell_type": "code",
   "execution_count": 40,
   "metadata": {},
   "outputs": [
    {
     "data": {
      "text/plain": [
       "1324"
      ]
     },
     "execution_count": 40,
     "metadata": {},
     "output_type": "execute_result"
    }
   ],
   "source": [
    "# количество моделей бренда sonstige_autos\n",
    "data.query(\"Brand == 'sonstige_autos'\")['Model'].isna().sum()"
   ]
  },
  {
   "cell_type": "markdown",
   "metadata": {},
   "source": [
    "Таким образом для бренда sonstige_autos все модели неизвестны. В таком случае укажем модель 'sonstige' для всех оставшися пропусков."
   ]
  },
  {
   "cell_type": "code",
   "execution_count": 41,
   "metadata": {},
   "outputs": [
    {
     "data": {
      "text/plain": [
       "DateCrawled          0\n",
       "Price                0\n",
       "VehicleType          0\n",
       "RegistrationYear     0\n",
       "Gearbox              0\n",
       "Power                0\n",
       "Model                0\n",
       "Kilometer            0\n",
       "RegistrationMonth    0\n",
       "FuelType             0\n",
       "Brand                0\n",
       "Repaired             0\n",
       "DateCreated          0\n",
       "PostalCode           0\n",
       "LastSeen             0\n",
       "dtype: int64"
      ]
     },
     "execution_count": 41,
     "metadata": {},
     "output_type": "execute_result"
    }
   ],
   "source": [
    "data['Model'].fillna('sonstige', inplace=True)\n",
    "data.isna().sum()"
   ]
  },
  {
   "cell_type": "markdown",
   "metadata": {},
   "source": [
    "Все пропуски обработаны. Проверим еще раз на неявные дубликаты и в случае обнаружения удалим их."
   ]
  },
  {
   "cell_type": "code",
   "execution_count": 42,
   "metadata": {},
   "outputs": [
    {
     "data": {
      "text/plain": [
       "2348"
      ]
     },
     "execution_count": 42,
     "metadata": {},
     "output_type": "execute_result"
    }
   ],
   "source": [
    "# проверка на неявные дубликаты по ключевым столбцам\n",
    "\n",
    "dupl = ['Model', 'Brand', 'RegistrationYear',\n",
    "        'VehicleType', 'PostalCode', 'Power', 'RegistrationMonth', 'Kilometer',\n",
    "        'Gearbox', 'FuelType']\n",
    "data.duplicated(subset=dupl).sum()"
   ]
  },
  {
   "cell_type": "code",
   "execution_count": 43,
   "metadata": {
    "run_control": {
     "marked": true
    }
   },
   "outputs": [
    {
     "name": "stdout",
     "output_type": "stream",
     "text": [
      "Удалено 2348 строк(и) из 258653 (0.91%)\n"
     ]
    }
   ],
   "source": [
    "data.sort_values(by='DateCreated', inplace=True)\n",
    "data.drop_duplicates(subset=dupl, inplace=True, keep='last')\n",
    "\n",
    "data_len = delete_count(data_len)"
   ]
  },
  {
   "cell_type": "markdown",
   "metadata": {},
   "source": [
    "Проверим, нет ли противоречий между `RegistrationYear` и `DateCreated`. Дата регистрации автомобиля не может быть больше, чем дата создания анкеты."
   ]
  },
  {
   "cell_type": "code",
   "execution_count": 44,
   "metadata": {
    "run_control": {
     "marked": true
    }
   },
   "outputs": [
    {
     "data": {
      "text/html": [
       "<div>\n",
       "<style scoped>\n",
       "    .dataframe tbody tr th:only-of-type {\n",
       "        vertical-align: middle;\n",
       "    }\n",
       "\n",
       "    .dataframe tbody tr th {\n",
       "        vertical-align: top;\n",
       "    }\n",
       "\n",
       "    .dataframe thead th {\n",
       "        text-align: right;\n",
       "    }\n",
       "</style>\n",
       "<table border=\"1\" class=\"dataframe\">\n",
       "  <thead>\n",
       "    <tr style=\"text-align: right;\">\n",
       "      <th></th>\n",
       "      <th>DateCrawled</th>\n",
       "      <th>Price</th>\n",
       "      <th>VehicleType</th>\n",
       "      <th>RegistrationYear</th>\n",
       "      <th>Gearbox</th>\n",
       "      <th>Power</th>\n",
       "      <th>Model</th>\n",
       "      <th>Kilometer</th>\n",
       "      <th>RegistrationMonth</th>\n",
       "      <th>FuelType</th>\n",
       "      <th>Brand</th>\n",
       "      <th>Repaired</th>\n",
       "      <th>DateCreated</th>\n",
       "      <th>PostalCode</th>\n",
       "      <th>LastSeen</th>\n",
       "      <th>Years</th>\n",
       "    </tr>\n",
       "  </thead>\n",
       "  <tbody>\n",
       "  </tbody>\n",
       "</table>\n",
       "</div>"
      ],
      "text/plain": [
       "Empty DataFrame\n",
       "Columns: [DateCrawled, Price, VehicleType, RegistrationYear, Gearbox, Power, Model, Kilometer, RegistrationMonth, FuelType, Brand, Repaired, DateCreated, PostalCode, LastSeen, Years]\n",
       "Index: []"
      ]
     },
     "execution_count": 44,
     "metadata": {},
     "output_type": "execute_result"
    }
   ],
   "source": [
    "# создание вспомогательного признака с годом\n",
    "data['Years'] = data['DateCreated'].dt.year\n",
    "data.query('RegistrationYear > Years')"
   ]
  },
  {
   "cell_type": "markdown",
   "metadata": {},
   "source": [
    "Противоречий нет."
   ]
  },
  {
   "cell_type": "code",
   "execution_count": 45,
   "metadata": {},
   "outputs": [],
   "source": [
    "# удаляем вспомогательный признак\n",
    "data.drop('Years', axis=1, inplace=True)"
   ]
  },
  {
   "cell_type": "markdown",
   "metadata": {},
   "source": [
    "### Проверка на мультиколлинеарность"
   ]
  },
  {
   "cell_type": "markdown",
   "metadata": {},
   "source": [
    "Необходимо исследовать корреляцию количественных признаков."
   ]
  },
  {
   "cell_type": "code",
   "execution_count": 46,
   "metadata": {},
   "outputs": [
    {
     "data": {
      "image/png": "[encoded data removed]",
      "text/plain": [
       "<Figure size 640x480 with 2 Axes>"
      ]
     },
     "metadata": {},
     "output_type": "display_data"
    }
   ],
   "source": [
    "corr_matrix = data[['Price', 'Kilometer', 'Power', 'RegistrationYear']].corr()\n",
    "sns.heatmap(corr_matrix, annot=True, linewidths=.5);"
   ]
  },
  {
   "cell_type": "markdown",
   "metadata": {},
   "source": [
    "Заметно, что цена коррелирует с годом регистрации автомобиля и мощностью двигателя, что логично. Вмешательство не требуется."
   ]
  },
  {
   "cell_type": "markdown",
   "metadata": {},
   "source": [
    "### Стандартизация признаков"
   ]
  },
  {
   "cell_type": "markdown",
   "metadata": {},
   "source": [
    "Используем метод OHE для категориальных признаков и StandardScaler для количественных."
   ]
  },
  {
   "cell_type": "code",
   "execution_count": 90,
   "metadata": {
    "run_control": {
     "marked": true
    }
   },
   "outputs": [],
   "source": [
    "# удалим столбцы с датами и почтовым адресом\n",
    "data = data.drop(['DateCrawled', 'DateCreated', 'LastSeen', 'PostalCode'], axis=1, errors='ignore')\n",
    "\n",
    "# разделим выборку на тренировочную и тестовую\n",
    "features = data.drop('Price', axis=1)\n",
    "target = data['Price']\n",
    "\n",
    "# выпишем категориальные и количественные признаки\n",
    "cat_features = ['VehicleType', 'Gearbox', 'FuelType',  'Repaired', 'RegistrationMonth']\n",
    "numb_features = ['RegistrationYear', 'Power', 'Kilometer']\n",
    "mee_features = ['Model', 'Brand']\n",
    "\n",
    "\n",
    "X_train, X_test, y_train, y_test = train_test_split(\n",
    "    features, target, test_size=0.25, random_state=42)"
   ]
  },
  {
   "cell_type": "code",
   "execution_count": 51,
   "metadata": {},
   "outputs": [
    {
     "name": "stdout",
     "output_type": "stream",
     "text": [
      "Размерность тренировочной выборки: (192228, 10)\n",
      "Размерность тестовой выборки: (64077, 10)\n"
     ]
    }
   ],
   "source": [
    "print('Размерность тренировочной выборки:', X_train.shape)\n",
    "print('Размерность тестовой выборки:', X_test.shape)"
   ]
  },
  {
   "cell_type": "code",
   "execution_count": 123,
   "metadata": {
    "run_control": {
     "marked": true
    },
    "scrolled": true
   },
   "outputs": [
    {
     "data": {
      "text/html": [
       "<div>\n",
       "<style scoped>\n",
       "    .dataframe tbody tr th:only-of-type {\n",
       "        vertical-align: middle;\n",
       "    }\n",
       "\n",
       "    .dataframe tbody tr th {\n",
       "        vertical-align: top;\n",
       "    }\n",
       "\n",
       "    .dataframe thead th {\n",
       "        text-align: right;\n",
       "    }\n",
       "</style>\n",
       "<table border=\"1\" class=\"dataframe\">\n",
       "  <thead>\n",
       "    <tr style=\"text-align: right;\">\n",
       "      <th></th>\n",
       "      <th>Brand</th>\n",
       "      <th>Model</th>\n",
       "      <th>VehicleType_convertible</th>\n",
       "      <th>VehicleType_coupe</th>\n",
       "      <th>VehicleType_other</th>\n",
       "      <th>VehicleType_sedan</th>\n",
       "      <th>VehicleType_small</th>\n",
       "      <th>VehicleType_suv</th>\n",
       "      <th>VehicleType_wagon</th>\n",
       "      <th>Gearbox_manual</th>\n",
       "      <th>...</th>\n",
       "      <th>RegistrationMonth_6</th>\n",
       "      <th>RegistrationMonth_7</th>\n",
       "      <th>RegistrationMonth_8</th>\n",
       "      <th>RegistrationMonth_9</th>\n",
       "      <th>RegistrationMonth_10</th>\n",
       "      <th>RegistrationMonth_11</th>\n",
       "      <th>RegistrationMonth_12</th>\n",
       "      <th>RegistrationYear</th>\n",
       "      <th>Power</th>\n",
       "      <th>Kilometer</th>\n",
       "    </tr>\n",
       "  </thead>\n",
       "  <tbody>\n",
       "    <tr>\n",
       "      <th>0</th>\n",
       "      <td>4.427327</td>\n",
       "      <td>2.711123</td>\n",
       "      <td>0.0</td>\n",
       "      <td>0.0</td>\n",
       "      <td>0.0</td>\n",
       "      <td>0.0</td>\n",
       "      <td>0.0</td>\n",
       "      <td>0.0</td>\n",
       "      <td>1.0</td>\n",
       "      <td>1.0</td>\n",
       "      <td>...</td>\n",
       "      <td>1.0</td>\n",
       "      <td>0.0</td>\n",
       "      <td>0.0</td>\n",
       "      <td>0.0</td>\n",
       "      <td>0.0</td>\n",
       "      <td>0.0</td>\n",
       "      <td>0.0</td>\n",
       "      <td>0.795127</td>\n",
       "      <td>1.133145</td>\n",
       "      <td>0.585634</td>\n",
       "    </tr>\n",
       "    <tr>\n",
       "      <th>1</th>\n",
       "      <td>1.630992</td>\n",
       "      <td>1.293797</td>\n",
       "      <td>0.0</td>\n",
       "      <td>0.0</td>\n",
       "      <td>0.0</td>\n",
       "      <td>0.0</td>\n",
       "      <td>1.0</td>\n",
       "      <td>0.0</td>\n",
       "      <td>0.0</td>\n",
       "      <td>1.0</td>\n",
       "      <td>...</td>\n",
       "      <td>0.0</td>\n",
       "      <td>0.0</td>\n",
       "      <td>0.0</td>\n",
       "      <td>0.0</td>\n",
       "      <td>1.0</td>\n",
       "      <td>0.0</td>\n",
       "      <td>0.0</td>\n",
       "      <td>-0.485181</td>\n",
       "      <td>-0.334152</td>\n",
       "      <td>0.585634</td>\n",
       "    </tr>\n",
       "    <tr>\n",
       "      <th>2</th>\n",
       "      <td>2.095631</td>\n",
       "      <td>1.556487</td>\n",
       "      <td>0.0</td>\n",
       "      <td>0.0</td>\n",
       "      <td>0.0</td>\n",
       "      <td>1.0</td>\n",
       "      <td>0.0</td>\n",
       "      <td>0.0</td>\n",
       "      <td>0.0</td>\n",
       "      <td>1.0</td>\n",
       "      <td>...</td>\n",
       "      <td>0.0</td>\n",
       "      <td>1.0</td>\n",
       "      <td>0.0</td>\n",
       "      <td>0.0</td>\n",
       "      <td>0.0</td>\n",
       "      <td>0.0</td>\n",
       "      <td>0.0</td>\n",
       "      <td>1.526732</td>\n",
       "      <td>0.096255</td>\n",
       "      <td>-2.088333</td>\n",
       "    </tr>\n",
       "    <tr>\n",
       "      <th>3</th>\n",
       "      <td>3.172055</td>\n",
       "      <td>1.759797</td>\n",
       "      <td>0.0</td>\n",
       "      <td>0.0</td>\n",
       "      <td>0.0</td>\n",
       "      <td>0.0</td>\n",
       "      <td>0.0</td>\n",
       "      <td>0.0</td>\n",
       "      <td>1.0</td>\n",
       "      <td>1.0</td>\n",
       "      <td>...</td>\n",
       "      <td>0.0</td>\n",
       "      <td>0.0</td>\n",
       "      <td>0.0</td>\n",
       "      <td>0.0</td>\n",
       "      <td>0.0</td>\n",
       "      <td>0.0</td>\n",
       "      <td>0.0</td>\n",
       "      <td>-0.668082</td>\n",
       "      <td>-0.216768</td>\n",
       "      <td>0.585634</td>\n",
       "    </tr>\n",
       "    <tr>\n",
       "      <th>4</th>\n",
       "      <td>4.013386</td>\n",
       "      <td>3.941093</td>\n",
       "      <td>0.0</td>\n",
       "      <td>0.0</td>\n",
       "      <td>0.0</td>\n",
       "      <td>0.0</td>\n",
       "      <td>0.0</td>\n",
       "      <td>0.0</td>\n",
       "      <td>0.0</td>\n",
       "      <td>1.0</td>\n",
       "      <td>...</td>\n",
       "      <td>0.0</td>\n",
       "      <td>0.0</td>\n",
       "      <td>0.0</td>\n",
       "      <td>0.0</td>\n",
       "      <td>0.0</td>\n",
       "      <td>0.0</td>\n",
       "      <td>0.0</td>\n",
       "      <td>1.709633</td>\n",
       "      <td>-0.060257</td>\n",
       "      <td>0.585634</td>\n",
       "    </tr>\n",
       "  </tbody>\n",
       "</table>\n",
       "<p>5 rows × 32 columns</p>\n",
       "</div>"
      ],
      "text/plain": [
       "      Brand     Model  VehicleType_convertible  VehicleType_coupe  \\\n",
       "0  4.427327  2.711123                      0.0                0.0   \n",
       "1  1.630992  1.293797                      0.0                0.0   \n",
       "2  2.095631  1.556487                      0.0                0.0   \n",
       "3  3.172055  1.759797                      0.0                0.0   \n",
       "4  4.013386  3.941093                      0.0                0.0   \n",
       "\n",
       "   VehicleType_other  VehicleType_sedan  VehicleType_small  VehicleType_suv  \\\n",
       "0                0.0                0.0                0.0              0.0   \n",
       "1                0.0                0.0                1.0              0.0   \n",
       "2                0.0                1.0                0.0              0.0   \n",
       "3                0.0                0.0                0.0              0.0   \n",
       "4                0.0                0.0                0.0              0.0   \n",
       "\n",
       "   VehicleType_wagon  Gearbox_manual  ...  RegistrationMonth_6  \\\n",
       "0                1.0             1.0  ...                  1.0   \n",
       "1                0.0             1.0  ...                  0.0   \n",
       "2                0.0             1.0  ...                  0.0   \n",
       "3                1.0             1.0  ...                  0.0   \n",
       "4                0.0             1.0  ...                  0.0   \n",
       "\n",
       "   RegistrationMonth_7  RegistrationMonth_8  RegistrationMonth_9  \\\n",
       "0                  0.0                  0.0                  0.0   \n",
       "1                  0.0                  0.0                  0.0   \n",
       "2                  1.0                  0.0                  0.0   \n",
       "3                  0.0                  0.0                  0.0   \n",
       "4                  0.0                  0.0                  0.0   \n",
       "\n",
       "   RegistrationMonth_10  RegistrationMonth_11  RegistrationMonth_12  \\\n",
       "0                   0.0                   0.0                   0.0   \n",
       "1                   1.0                   0.0                   0.0   \n",
       "2                   0.0                   0.0                   0.0   \n",
       "3                   0.0                   0.0                   0.0   \n",
       "4                   0.0                   0.0                   0.0   \n",
       "\n",
       "   RegistrationYear     Power  Kilometer  \n",
       "0          0.795127  1.133145   0.585634  \n",
       "1         -0.485181 -0.334152   0.585634  \n",
       "2          1.526732  0.096255  -2.088333  \n",
       "3         -0.668082 -0.216768   0.585634  \n",
       "4          1.709633 -0.060257   0.585634  \n",
       "\n",
       "[5 rows x 32 columns]"
      ]
     },
     "execution_count": 123,
     "metadata": {},
     "output_type": "execute_result"
    }
   ],
   "source": [
    "# создаем трансформер и проверяем как он кодирует\n",
    "transformer = make_column_transformer(\n",
    "    (OneHotEncoder(drop='first', handle_unknown='ignore'), cat_features),\n",
    "    (StandardScaler(), numb_features),\n",
    "    (MEstimateEncoder(), mee_features), remainder='passthrough',\n",
    "    verbose_feature_names_out=False)\n",
    "\n",
    "transformer_aux = make_column_transformer((StandardScaler(with_mean=False), [-1, -2]),\n",
    "                                          remainder='passthrough',\n",
    "                                          verbose_feature_names_out=False)\n",
    "\n",
    "\n",
    "X_train_trans = pd.DataFrame.sparse.from_spmatrix(transformer.fit_transform(X_train, y_train),\n",
    "    columns=transformer.get_feature_names_out())\n",
    "#test = transformer_aux.fit_transform(transformer.fit_transform(X_train, y_train))\n",
    "\n",
    "X_train_trans = pd.DataFrame(transformer_aux.fit_transform(X_train_trans),\n",
    "    columns=transformer_aux.get_feature_names_out())\n",
    "\n",
    "\n",
    "test = make_pipeline(transformer, transformer_aux)\n",
    "\n",
    "#X_train_trans = pd.DataFrame.sparse.from_spmatrix(\n",
    "#    transformer_aux.fit_transform(transformer.fit_transform(X_train, y_train)),\n",
    "#    columns=transformer_aux.get_feature_names_out())\n",
    "\n",
    "#XX = pd.DataFrame.sparse.from_spmatrix(transformer_aux.fit_transform(X_train_trans),\n",
    "#    columns=transformer.get_feature_names_out())\n",
    "\n",
    "\n",
    "\n",
    "X_train_trans.head()\n",
    "#transformer.fit_transform(X_train, y_train)\n",
    "#test\n",
    "#pd.DataFrame.sparse.from_spmatrix(test.fit_transform(X_train, y_train))"
   ]
  },
  {
   "cell_type": "markdown",
   "metadata": {},
   "source": [
    "Признаки кодируются нормально, можно переходить к обучению моделей."
   ]
  },
  {
   "cell_type": "markdown",
   "metadata": {},
   "source": [
    "## Обучение моделей"
   ]
  },
  {
   "cell_type": "markdown",
   "metadata": {},
   "source": [
    "Обучим следующие модели с различными гиперпараметрами:\n",
    "- Linear Regression;\n",
    "- Ridge Regression;\n",
    "- Random Forest Regression;\n",
    "- LightGBM;\n",
    "- CatBoost.\n",
    "\n",
    "Для оценки качества будем применять RMSE. Для каждой модели будем замерять время обучения и время предсказания."
   ]
  },
  {
   "cell_type": "code",
   "execution_count": 94,
   "metadata": {},
   "outputs": [],
   "source": [
    "'''\n",
    "Функция для подсчета времени.\n",
    "Принимает пайплайн или модель, скор на обучении и название модели для отображения.\n",
    "Выводит время обучения, время предсказания и сохраняет данные в словарь.\n",
    "'''\n",
    "def timing(pipeline, score, name):\n",
    "    start = time.time()\n",
    "    pipeline.fit(X_train, y_train)\n",
    "    end = time.time()\n",
    "    fit_time = round(end - start, 3)\n",
    "    print(f\"Время на обучение: {fit_time} секунд(ы)\")\n",
    "    \n",
    "    start = time.time()    \n",
    "    answer = pipeline.predict(X_test)\n",
    "    end = time.time()\n",
    "    predict_time = round(end - start, 3)\n",
    "    print(f\"Время на предсказание: {predict_time} секунд(ы)\")\n",
    "    \n",
    "    score_test = mean_squared_error(y_test, answer, squared = False)\n",
    "    storage[name] = [score, fit_time, predict_time, score_test]"
   ]
  },
  {
   "cell_type": "code",
   "execution_count": 98,
   "metadata": {},
   "outputs": [],
   "source": [
    "state = 42\n",
    "\n",
    "'''\n",
    "Функция для подбора гиперпараметров, содержит в себе функцию подсчета времени.\n",
    "Принимает модель, вид поиска, гиперпараметры для перебора и название модели для отображения.\n",
    "Строит пайплайн, запускает поиск гиперпараметров, выводит значения гиперпараметров и скор на обучении.\n",
    "Возвращает лучший пайплайн и лучшую метрику.\n",
    "\n",
    "search_type:\n",
    "C - cross_val_score\n",
    "G - GridSearchCV\n",
    "R - RandomizedSearchCV\n",
    "'''\n",
    "def pipe(model, search_type, params, name):\n",
    "    \n",
    "    # ветка для cross_val_score\n",
    "    if search_type == \"C\":      \n",
    "        model = model\n",
    "        pipeline = make_pipeline(transformer, transformer_aux, model)\n",
    "        model_score = cross_val_score(\n",
    "            pipeline, X_train, y_train, scoring='neg_root_mean_squared_error').mean() * (-1)\n",
    "        # значение RMSE на кросс-валидации\n",
    "        print(f'best_score: {model_score.round(1)}')\n",
    "        \n",
    "        return pipeline, model_score\n",
    "    \n",
    "    # ветка для GridSearchCV\n",
    "    elif search_type == \"G\":\n",
    "        model = model\n",
    "        model.set_params(random_state=state)\n",
    "        pipeline = make_pipeline(transformer, transformer_aux, model) \n",
    "        gs = GridSearchCV(\n",
    "            pipeline, \n",
    "            param_grid=params, \n",
    "            scoring='neg_root_mean_squared_error', \n",
    "            n_jobs=-1,\n",
    "            error_score='raise',\n",
    "            verbose=2,\n",
    "            cv=5\n",
    "        )        \n",
    "        gs.fit(X_train, y_train)\n",
    "        \n",
    "        #лучшее значение RMSE на кросс-валидации\n",
    "        print(f'best_score: {gs.best_score_.round(1) * (-1)}')\n",
    "        # лучшие гиперпараметры\n",
    "        print(f'best_params: {gs.best_params_}') \n",
    "        \n",
    "        pipeline = gs.best_estimator_\n",
    "        \n",
    "        timing(pipeline, gs.best_score_.round(1) * (-1), name)\n",
    "        \n",
    "        return pipeline, gs.best_score_.round(1) * (-1)\n",
    "\n",
    "    # ветка для RandomizedSearchCV\n",
    "    elif search_type == \"R\":\n",
    "        model = model\n",
    "        model.set_params(random_state=state)\n",
    "        pipeline = make_pipeline(transformer, transformer_aux, model)\n",
    "        rs = RandomizedSearchCV(\n",
    "            pipeline,\n",
    "            param_distributions=params, \n",
    "            scoring='neg_root_mean_squared_error', \n",
    "            n_jobs=-1,\n",
    "            random_state=state,\n",
    "            verbose=2,\n",
    "            cv=5\n",
    "        )\n",
    "        rs.fit(X_train, y_train)\n",
    "        # лучшее значение RMSE на кросс-валидации\n",
    "        print(f'best_score: {rs.best_score_.round(1) * (-1)}')\n",
    "        # лучшие гиперпараметры\n",
    "        print(f'best_params: {rs.best_params_}')\n",
    "\n",
    "        pipeline = rs.best_estimator_\n",
    "        \n",
    "        timing(pipeline, rs.best_score_.round(1) * (-1), name)\n",
    "        \n",
    "        return pipeline, rs.best_score_.round(1) * (-1)\n",
    "        \n",
    "    else: print('Введите верный search_type')"
   ]
  },
  {
   "cell_type": "markdown",
   "metadata": {},
   "source": [
    "### Linear Regression"
   ]
  },
  {
   "cell_type": "code",
   "execution_count": 96,
   "metadata": {},
   "outputs": [
    {
     "name": "stdout",
     "output_type": "stream",
     "text": [
      "best_score: 2462.4\n",
      "Время на обучение: 2.469 секунд(ы)\n",
      "Время на предсказание: 0.294 секунд(ы)\n",
      "CPU times: total: 14 s\n",
      "Wall time: 13.9 s\n"
     ]
    }
   ],
   "source": [
    "%%time\n",
    "# в словарь записываются данные из всех моделей для сравнения\n",
    "storage = {}\n",
    "\n",
    "pipeline_LR, score_LR = pipe(LinearRegression(), 'C', params=None, name=None)\n",
    "timing(pipeline_LR, score_LR, 'LR')"
   ]
  },
  {
   "cell_type": "markdown",
   "metadata": {},
   "source": [
    "### Ridge Regression"
   ]
  },
  {
   "cell_type": "markdown",
   "metadata": {},
   "source": [
    "В модели Ridge Regression будем варьировать коэффициентом регуляризации."
   ]
  },
  {
   "cell_type": "code",
   "execution_count": 99,
   "metadata": {
    "scrolled": true
   },
   "outputs": [
    {
     "name": "stdout",
     "output_type": "stream",
     "text": [
      "Fitting 5 folds for each of 5 candidates, totalling 25 fits\n",
      "best_score: 2462.5\n",
      "best_params: {'ridge__alpha': 0.1}\n",
      "Время на обучение: 2.42 секунд(ы)\n",
      "Время на предсказание: 0.318 секунд(ы)\n",
      "CPU times: total: 21.9 s\n",
      "Wall time: 25.8 s\n"
     ]
    }
   ],
   "source": [
    "%%time\n",
    "param_grid_ridge = {\n",
    "    'ridge__alpha': np.logspace(-2, 0, 5)}\n",
    "\n",
    "pipeline_ridge, score_ridge = pipe(Ridge(), 'G', param_grid_ridge, 'Ridge')"
   ]
  },
  {
   "cell_type": "markdown",
   "metadata": {},
   "source": [
    "### Random Forest Regression"
   ]
  },
  {
   "cell_type": "markdown",
   "metadata": {},
   "source": [
    "В модели случайного леса будем варьировать количеством дерьевьев и их глубиной."
   ]
  },
  {
   "cell_type": "code",
   "execution_count": 100,
   "metadata": {
    "run_control": {
     "marked": true
    },
    "scrolled": true
   },
   "outputs": [
    {
     "name": "stderr",
     "output_type": "stream",
     "text": [
      "C:\\Users\\Kirill.V.Gusev\\.conda\\envs\\ds_practicum_env\\lib\\site-packages\\sklearn\\model_selection\\_search.py:306: UserWarning: The total space of parameters 8 is smaller than n_iter=10. Running 8 iterations. For exhaustive searches, use GridSearchCV.\n",
      "  warnings.warn(\n"
     ]
    },
    {
     "name": "stdout",
     "output_type": "stream",
     "text": [
      "Fitting 5 folds for each of 8 candidates, totalling 40 fits\n",
      "best_score: 1793.4\n",
      "best_params: {'randomforestregressor__n_estimators': 20, 'randomforestregressor__max_depth': 8}\n",
      "Время на обучение: 40.901 секунд(ы)\n",
      "Время на предсказание: 0.428 секунд(ы)\n",
      "CPU times: total: 1min 56s\n",
      "Wall time: 3min 16s\n"
     ]
    }
   ],
   "source": [
    "%%time\n",
    "param_grid_RF = {\n",
    "    'randomforestregressor__n_estimators': range(10, 30, 10),\n",
    "    'randomforestregressor__max_depth': range(2, 10, 2)\n",
    "}\n",
    "\n",
    "pipeline_RF, score_RF = pipe(RandomForestRegressor(), 'R', param_grid_RF, 'Random Forest')"
   ]
  },
  {
   "cell_type": "markdown",
   "metadata": {},
   "source": [
    "### LightGBM"
   ]
  },
  {
   "cell_type": "markdown",
   "metadata": {},
   "source": [
    "В модели LightGBM будем варьировать темпом обучения и количеством листьев."
   ]
  },
  {
   "cell_type": "code",
   "execution_count": 114,
   "metadata": {
    "run_control": {
     "marked": true
    },
    "scrolled": true
   },
   "outputs": [
    {
     "name": "stdout",
     "output_type": "stream",
     "text": [
      "Fitting 5 folds for each of 20 candidates, totalling 100 fits\n",
      "best_score: 1499.6\n",
      "best_params: {'lgbmregressor__learning_rate': 0.31622776601683794, 'lgbmregressor__num_leaves': 40}\n",
      "Время на обучение: 2.8 секунд(ы)\n",
      "Время на предсказание: 0.398 секунд(ы)\n",
      "CPU times: total: 1min 31s\n",
      "Wall time: 1min 23s\n"
     ]
    }
   ],
   "source": [
    "%%time\n",
    "param_grid_lgbm = {\n",
    "    'lgbmregressor__num_leaves': range(10, 50, 10),\n",
    "    'lgbmregressor__learning_rate': np.logspace(-1, 0, 5),\n",
    "}\n",
    "\n",
    "pipeline_lgbm, score_lgbm = pipe(lgb.LGBMRegressor(), 'G', param_grid_lgbm, \"LightGBM\")"
   ]
  },
  {
   "cell_type": "markdown",
   "metadata": {},
   "source": [
    "### CatBoost"
   ]
  },
  {
   "cell_type": "markdown",
   "metadata": {},
   "source": [
    "В модели CatBoost будем варьировать темпом обучения и глубиной дерева."
   ]
  },
  {
   "cell_type": "code",
   "execution_count": 115,
   "metadata": {
    "scrolled": true
   },
   "outputs": [
    {
     "name": "stdout",
     "output_type": "stream",
     "text": [
      "Fitting 5 folds for each of 30 candidates, totalling 150 fits\n",
      "0:\tlearn: 2216.9247610\ttotal: 262ms\tremaining: 2.36s\n",
      "1:\tlearn: 1822.9005743\ttotal: 378ms\tremaining: 1.51s\n",
      "2:\tlearn: 1721.9761447\ttotal: 464ms\tremaining: 1.08s\n",
      "3:\tlearn: 1678.3350619\ttotal: 556ms\tremaining: 834ms\n",
      "4:\tlearn: 1638.8823161\ttotal: 666ms\tremaining: 666ms\n",
      "5:\tlearn: 1606.1822008\ttotal: 784ms\tremaining: 523ms\n",
      "6:\tlearn: 1586.2078485\ttotal: 868ms\tremaining: 372ms\n",
      "7:\tlearn: 1571.5506515\ttotal: 948ms\tremaining: 237ms\n",
      "8:\tlearn: 1550.5916957\ttotal: 1.04s\tremaining: 115ms\n",
      "9:\tlearn: 1535.9693199\ttotal: 1.12s\tremaining: 0us\n",
      "best_score: 1594.6\n",
      "best_params: {'catboostregressor__depth': 12, 'catboostregressor__learning_rate': 0.774263682681127}\n",
      "0:\tlearn: 2216.9247610\ttotal: 117ms\tremaining: 1.05s\n",
      "1:\tlearn: 1822.9005743\ttotal: 206ms\tremaining: 824ms\n",
      "2:\tlearn: 1721.9761447\ttotal: 329ms\tremaining: 768ms\n",
      "3:\tlearn: 1678.3350619\ttotal: 457ms\tremaining: 685ms\n",
      "4:\tlearn: 1638.8823161\ttotal: 628ms\tremaining: 628ms\n",
      "5:\tlearn: 1606.1822008\ttotal: 742ms\tremaining: 494ms\n",
      "6:\tlearn: 1586.2078485\ttotal: 853ms\tremaining: 366ms\n",
      "7:\tlearn: 1571.5506515\ttotal: 943ms\tremaining: 236ms\n",
      "8:\tlearn: 1550.5916957\ttotal: 1.04s\tremaining: 116ms\n",
      "9:\tlearn: 1535.9693199\ttotal: 1.13s\tremaining: 0us\n",
      "Время на обучение: 3.775 секунд(ы)\n",
      "Время на предсказание: 0.371 секунд(ы)\n",
      "CPU times: total: 2min 12s\n",
      "Wall time: 3min 3s\n"
     ]
    }
   ],
   "source": [
    "%%time\n",
    "param_grid_cat = {\n",
    "    'catboostregressor__depth': range(4, 16, 4),\n",
    "    'catboostregressor__learning_rate': np.logspace(-1, 0, 10),\n",
    "}\n",
    "\n",
    "pipeline_cat, score_cat = pipe(CatBoostRegressor(iterations=10), 'G', param_grid_cat, \"CatBoost\")"
   ]
  },
  {
   "cell_type": "markdown",
   "metadata": {},
   "source": [
    "## Анализ моделей"
   ]
  },
  {
   "cell_type": "markdown",
   "metadata": {},
   "source": [
    "### Сравнение"
   ]
  },
  {
   "cell_type": "markdown",
   "metadata": {},
   "source": [
    "Сравним результаты моделей на тренировочной выборке по качеству, времени обучения, времени предсказания."
   ]
  },
  {
   "cell_type": "code",
   "execution_count": 116,
   "metadata": {},
   "outputs": [
    {
     "data": {
      "text/html": [
       "<style  type=\"text/css\" >\n",
       "#T_f094c_row0_col2,#T_f094c_row1_col1,#T_f094c_row3_col0,#T_f094c_row3_col3{\n",
       "            background-color:  lightgreen;\n",
       "        }</style><table id=\"T_f094c_\" ><thead>    <tr>        <th class=\"blank level0\" ></th>        <th class=\"col_heading level0 col0\" >Fitting Score</th>        <th class=\"col_heading level0 col1\" >Fitting Time</th>        <th class=\"col_heading level0 col2\" >Prediction Time</th>        <th class=\"col_heading level0 col3\" >Test Score</th>    </tr></thead><tbody>\n",
       "                <tr>\n",
       "                        <th id=\"T_f094c_level0_row0\" class=\"row_heading level0 row0\" >LR</th>\n",
       "                        <td id=\"T_f094c_row0_col0\" class=\"data row0 col0\" >2462.435</td>\n",
       "                        <td id=\"T_f094c_row0_col1\" class=\"data row0 col1\" >2.469</td>\n",
       "                        <td id=\"T_f094c_row0_col2\" class=\"data row0 col2\" >0.294</td>\n",
       "                        <td id=\"T_f094c_row0_col3\" class=\"data row0 col3\" >2460.052</td>\n",
       "            </tr>\n",
       "            <tr>\n",
       "                        <th id=\"T_f094c_level0_row1\" class=\"row_heading level0 row1\" >Ridge</th>\n",
       "                        <td id=\"T_f094c_row1_col0\" class=\"data row1 col0\" >2462.500</td>\n",
       "                        <td id=\"T_f094c_row1_col1\" class=\"data row1 col1\" >2.420</td>\n",
       "                        <td id=\"T_f094c_row1_col2\" class=\"data row1 col2\" >0.318</td>\n",
       "                        <td id=\"T_f094c_row1_col3\" class=\"data row1 col3\" >2460.096</td>\n",
       "            </tr>\n",
       "            <tr>\n",
       "                        <th id=\"T_f094c_level0_row2\" class=\"row_heading level0 row2\" >Random Forest</th>\n",
       "                        <td id=\"T_f094c_row2_col0\" class=\"data row2 col0\" >1793.400</td>\n",
       "                        <td id=\"T_f094c_row2_col1\" class=\"data row2 col1\" >40.901</td>\n",
       "                        <td id=\"T_f094c_row2_col2\" class=\"data row2 col2\" >0.428</td>\n",
       "                        <td id=\"T_f094c_row2_col3\" class=\"data row2 col3\" >1807.503</td>\n",
       "            </tr>\n",
       "            <tr>\n",
       "                        <th id=\"T_f094c_level0_row3\" class=\"row_heading level0 row3\" >LightGBM</th>\n",
       "                        <td id=\"T_f094c_row3_col0\" class=\"data row3 col0\" >1499.600</td>\n",
       "                        <td id=\"T_f094c_row3_col1\" class=\"data row3 col1\" >2.800</td>\n",
       "                        <td id=\"T_f094c_row3_col2\" class=\"data row3 col2\" >0.398</td>\n",
       "                        <td id=\"T_f094c_row3_col3\" class=\"data row3 col3\" >1505.224</td>\n",
       "            </tr>\n",
       "            <tr>\n",
       "                        <th id=\"T_f094c_level0_row4\" class=\"row_heading level0 row4\" >CatBoost</th>\n",
       "                        <td id=\"T_f094c_row4_col0\" class=\"data row4 col0\" >1594.600</td>\n",
       "                        <td id=\"T_f094c_row4_col1\" class=\"data row4 col1\" >3.775</td>\n",
       "                        <td id=\"T_f094c_row4_col2\" class=\"data row4 col2\" >0.371</td>\n",
       "                        <td id=\"T_f094c_row4_col3\" class=\"data row4 col3\" >1603.601</td>\n",
       "            </tr>\n",
       "    </tbody></table>"
      ],
      "text/plain": [
       "<pandas.io.formats.style.Styler at 0x21cc61336a0>"
      ]
     },
     "execution_count": 116,
     "metadata": {},
     "output_type": "execute_result"
    }
   ],
   "source": [
    "temp = pd.DataFrame(storage).T\n",
    "temp.columns = ['Fitting Score', 'Fitting Time', 'Prediction Time', 'Test Score']\n",
    "temp.style.format(\"{:.3f}\").highlight_min(color='lightgreen')"
   ]
  },
  {
   "cell_type": "markdown",
   "metadata": {},
   "source": [
    "Модель LightGBM не сильно уступает в скорости обучения, но при этом демонстрирует наилучшую метрику качества. Самый быстрый Prediction Time показывают модели линейной регресиии."
   ]
  },
  {
   "cell_type": "markdown",
   "metadata": {},
   "source": [
    "### Важность признаков"
   ]
  },
  {
   "cell_type": "markdown",
   "metadata": {},
   "source": [
    "Выведем первые и последние пять признаков для модели LightGBM. На графике построим топ-10 признаков по важности."
   ]
  },
  {
   "cell_type": "code",
   "execution_count": 120,
   "metadata": {},
   "outputs": [
    {
     "data": {
      "text/plain": [
       "[('columntransformer-1',\n",
       "  ColumnTransformer(remainder='passthrough',\n",
       "                    transformers=[('onehotencoder',\n",
       "                                   OneHotEncoder(drop='first',\n",
       "                                                 handle_unknown='ignore'),\n",
       "                                   ['VehicleType', 'Gearbox', 'FuelType',\n",
       "                                    'Repaired', 'RegistrationMonth']),\n",
       "                                  ('standardscaler', StandardScaler(),\n",
       "                                   ['RegistrationYear', 'Power', 'Kilometer']),\n",
       "                                  ('mestimateencoder', MEstimateEncoder(),\n",
       "                                   ['Model', 'Brand'])],\n",
       "                    verbose_feature_names_out=False)),\n",
       " ('columntransformer-2',\n",
       "  ColumnTransformer(remainder='passthrough',\n",
       "                    transformers=[('standardscaler',\n",
       "                                   StandardScaler(with_mean=False), [-1, -2])],\n",
       "                    verbose_feature_names_out=False)),\n",
       " ('lgbmregressor',\n",
       "  LGBMRegressor(learning_rate=0.31622776601683794, num_leaves=40, random_state=42))]"
      ]
     },
     "execution_count": 120,
     "metadata": {},
     "output_type": "execute_result"
    }
   ],
   "source": [
    "pipeline_lgbm.steps"
   ]
  },
  {
   "cell_type": "code",
   "execution_count": 124,
   "metadata": {},
   "outputs": [
    {
     "data": {
      "text/html": [
       "<div>\n",
       "<style scoped>\n",
       "    .dataframe tbody tr th:only-of-type {\n",
       "        vertical-align: middle;\n",
       "    }\n",
       "\n",
       "    .dataframe tbody tr th {\n",
       "        vertical-align: top;\n",
       "    }\n",
       "\n",
       "    .dataframe thead th {\n",
       "        text-align: right;\n",
       "    }\n",
       "</style>\n",
       "<table border=\"1\" class=\"dataframe\">\n",
       "  <thead>\n",
       "    <tr style=\"text-align: right;\">\n",
       "      <th></th>\n",
       "      <th>Важность</th>\n",
       "    </tr>\n",
       "  </thead>\n",
       "  <tbody>\n",
       "    <tr>\n",
       "      <th>Power</th>\n",
       "      <td>913</td>\n",
       "    </tr>\n",
       "    <tr>\n",
       "      <th>RegistrationYear</th>\n",
       "      <td>792</td>\n",
       "    </tr>\n",
       "    <tr>\n",
       "      <th>Model</th>\n",
       "      <td>695</td>\n",
       "    </tr>\n",
       "    <tr>\n",
       "      <th>Brand</th>\n",
       "      <td>470</td>\n",
       "    </tr>\n",
       "    <tr>\n",
       "      <th>Kilometer</th>\n",
       "      <td>338</td>\n",
       "    </tr>\n",
       "    <tr>\n",
       "      <th>FuelType_lpg</th>\n",
       "      <td>6</td>\n",
       "    </tr>\n",
       "    <tr>\n",
       "      <th>RegistrationMonth_2</th>\n",
       "      <td>6</td>\n",
       "    </tr>\n",
       "    <tr>\n",
       "      <th>FuelType_petrol</th>\n",
       "      <td>5</td>\n",
       "    </tr>\n",
       "    <tr>\n",
       "      <th>FuelType_electric</th>\n",
       "      <td>3</td>\n",
       "    </tr>\n",
       "    <tr>\n",
       "      <th>FuelType_other</th>\n",
       "      <td>1</td>\n",
       "    </tr>\n",
       "  </tbody>\n",
       "</table>\n",
       "</div>"
      ],
      "text/plain": [
       "                     Важность\n",
       "Power                     913\n",
       "RegistrationYear          792\n",
       "Model                     695\n",
       "Brand                     470\n",
       "Kilometer                 338\n",
       "FuelType_lpg                6\n",
       "RegistrationMonth_2         6\n",
       "FuelType_petrol             5\n",
       "FuelType_electric           3\n",
       "FuelType_other              1"
      ]
     },
     "execution_count": 124,
     "metadata": {},
     "output_type": "execute_result"
    }
   ],
   "source": [
    "temp = pipeline_lgbm.steps[2][1].feature_importances_\n",
    "important = pd.DataFrame(\n",
    "    data=pd.Series(temp, index=transformer_aux.get_feature_names_out()))\n",
    "important.sort_values(by=[0], inplace=True, ascending=False)\n",
    "temp = pd.concat([important.head(), important.tail()])\n",
    "temp.columns=['Важность']\n",
    "temp"
   ]
  },
  {
   "cell_type": "code",
   "execution_count": 125,
   "metadata": {},
   "outputs": [
    {
     "data": {
      "image/png": "[encoded data removed]",
      "text/plain": [
       "<Figure size 800x500 with 1 Axes>"
      ]
     },
     "metadata": {},
     "output_type": "display_data"
    }
   ],
   "source": [
    "fig, ax = plt.subplots(figsize=(8, 5))\n",
    "sns.barplot(x=important.head(10)[0], y=important.head(10).index)\n",
    "ax.set_xlabel('Важность')\n",
    "ax.set_ylabel('Признак')\n",
    "ax.set_title('Важность признаков модели LightGBM')\n",
    "ax.grid();"
   ]
  },
  {
   "cell_type": "markdown",
   "metadata": {},
   "source": [
    "### Проверка на адекватность"
   ]
  },
  {
   "cell_type": "markdown",
   "metadata": {},
   "source": [
    "Выведем результаты, которые покажет модель DummyClassifier с разными алгоритмами и сравним их с полученными выше результатами на тестовой выборке."
   ]
  },
  {
   "cell_type": "code",
   "execution_count": null,
   "metadata": {
    "run_control": {
     "marked": false
    }
   },
   "outputs": [],
   "source": [
    "strategy = ['mean', 'median'] # алгоритм\n",
    "for strat in strategy:\n",
    "    model = DummyRegressor(\n",
    "        strategy=strat)\n",
    "    model.fit(X_train, y_train)\n",
    "    answer = model.predict(X_test)\n",
    "    error = mean_squared_error(y_test, answer, squared=False)\n",
    "    (print(f'Dummy модель со стратегией {strat} показала результат: {error.round(3)}'))"
   ]
  },
  {
   "cell_type": "markdown",
   "metadata": {},
   "source": [
    "Качество модели LightGBM явно лучше (1505), чем у константных моделей."
   ]
  },
  {
   "cell_type": "markdown",
   "metadata": {},
   "source": [
    "**Вывод:** В рамках решения задачи были выполнены следующие этапы:\n",
    "- проведены исследование и предобработка данных,\n",
    "- проверена мультиколлинеарность,\n",
    "- обработаны пропуски,\n",
    "- выполнена проверка на дубликаты,\n",
    "- обучены несколько моделей: линейной регрессии, случайного леса и градиентного бустинга,\n",
    "- проведено сравнение резульатов по нескольким показателям,\n",
    "- выведена важность признаков,\n",
    "- выбранная модель проверена на адекватность.\n",
    "\n",
    "По итогам исследования выбрана модель LightGBM, так как она показала наилучшую метрику качества (менее 2500), не сильно уступая при этом в скорости обучения. В скорости прогнозирования лидером является обычная линейная модель, но в данном случае десятые доли секунд несущественны.\n",
    "\n",
    "Наиболее важными параметрами для обучения оказались: год регистрации автомобиля, мощность двигателя, бренд и модель автомобиля, а также суммарный пробег."
   ]
  },
  {
   "cell_type": "markdown",
   "metadata": {},
   "source": [
    "## Чек-лист проверки"
   ]
  },
  {
   "cell_type": "markdown",
   "metadata": {},
   "source": [
    "Поставьте 'x' в выполненных пунктах. Далее нажмите Shift+Enter."
   ]
  },
  {
   "cell_type": "markdown",
   "metadata": {},
   "source": [
    "- [x]  Jupyter Notebook открыт\n",
    "- [x]  Весь код выполняется без ошибок\n",
    "- [x]  Ячейки с кодом расположены в порядке исполнения\n",
    "- [x]  Выполнена загрузка и подготовка данных\n",
    "- [x]  Выполнено обучение моделей\n",
    "- [x]  Есть анализ скорости работы и качества моделей"
   ]
  }
 ],
 "metadata": {
  "ExecuteTimeLog": [
   {
    "duration": 12099,
    "start_time": "2023-07-09T19:43:58.797Z"
   },
   {
    "duration": 1532,
    "start_time": "2023-07-09T19:44:10.898Z"
   },
   {
    "duration": 1478,
    "start_time": "2023-07-09T19:44:12.431Z"
   },
   {
    "duration": 164,
    "start_time": "2023-07-09T19:44:13.911Z"
   },
   {
    "duration": 137,
    "start_time": "2023-07-09T19:44:14.076Z"
   },
   {
    "duration": 1075,
    "start_time": "2023-07-09T19:44:14.215Z"
   },
   {
    "duration": 279,
    "start_time": "2023-07-09T19:44:15.291Z"
   },
   {
    "duration": 1034,
    "start_time": "2023-07-09T19:44:15.572Z"
   },
   {
    "duration": 351,
    "start_time": "2023-07-09T19:44:16.608Z"
   },
   {
    "duration": 22,
    "start_time": "2023-07-09T19:44:16.961Z"
   },
   {
    "duration": 24,
    "start_time": "2023-07-09T19:44:16.985Z"
   },
   {
    "duration": 53,
    "start_time": "2023-07-09T19:44:17.011Z"
   },
   {
    "duration": 4,
    "start_time": "2023-07-09T19:44:17.066Z"
   },
   {
    "duration": 142,
    "start_time": "2023-07-09T19:44:17.072Z"
   },
   {
    "duration": 52,
    "start_time": "2023-07-09T19:44:17.216Z"
   },
   {
    "duration": 73,
    "start_time": "2023-07-09T19:44:17.270Z"
   },
   {
    "duration": 36,
    "start_time": "2023-07-09T19:44:17.349Z"
   },
   {
    "duration": 31,
    "start_time": "2023-07-09T19:44:17.386Z"
   },
   {
    "duration": 850,
    "start_time": "2023-07-09T19:44:17.418Z"
   },
   {
    "duration": 313,
    "start_time": "2023-07-09T19:44:18.270Z"
   },
   {
    "duration": 34,
    "start_time": "2023-07-09T19:44:18.584Z"
   },
   {
    "duration": 24,
    "start_time": "2023-07-09T19:44:18.631Z"
   },
   {
    "duration": 151,
    "start_time": "2023-07-09T19:44:18.656Z"
   },
   {
    "duration": 51,
    "start_time": "2023-07-09T19:44:18.809Z"
   },
   {
    "duration": 36,
    "start_time": "2023-07-09T19:44:18.863Z"
   },
   {
    "duration": 4798,
    "start_time": "2023-07-09T19:44:18.901Z"
   },
   {
    "duration": 286,
    "start_time": "2023-07-09T19:44:23.701Z"
   },
   {
    "duration": 317,
    "start_time": "2023-07-09T19:44:23.990Z"
   },
   {
    "duration": 2193,
    "start_time": "2023-07-09T19:44:24.310Z"
   },
   {
    "duration": 655,
    "start_time": "2023-07-09T19:44:26.505Z"
   },
   {
    "duration": 141,
    "start_time": "2023-07-09T19:44:27.164Z"
   },
   {
    "duration": 745,
    "start_time": "2023-07-09T19:44:27.308Z"
   },
   {
    "duration": 87,
    "start_time": "2023-07-09T19:44:28.054Z"
   },
   {
    "duration": 6,
    "start_time": "2023-07-09T19:44:28.142Z"
   },
   {
    "duration": 327,
    "start_time": "2023-07-09T19:44:28.149Z"
   },
   {
    "duration": 293,
    "start_time": "2023-07-09T19:44:28.478Z"
   },
   {
    "duration": 317,
    "start_time": "2023-07-09T19:44:28.773Z"
   },
   {
    "duration": 319,
    "start_time": "2023-07-09T19:44:29.092Z"
   },
   {
    "duration": 266,
    "start_time": "2023-07-09T19:44:29.412Z"
   },
   {
    "duration": 73,
    "start_time": "2023-07-09T19:44:29.679Z"
   },
   {
    "duration": 66,
    "start_time": "2023-07-09T19:44:29.762Z"
   },
   {
    "duration": 282,
    "start_time": "2023-07-09T19:44:29.830Z"
   },
   {
    "duration": 406,
    "start_time": "2023-07-09T19:44:30.114Z"
   },
   {
    "duration": 591,
    "start_time": "2023-07-09T19:44:30.522Z"
   },
   {
    "duration": 76,
    "start_time": "2023-07-09T19:44:31.115Z"
   },
   {
    "duration": 47,
    "start_time": "2023-07-09T19:44:31.193Z"
   },
   {
    "duration": 75,
    "start_time": "2023-07-09T19:44:31.249Z"
   },
   {
    "duration": 339,
    "start_time": "2023-07-09T19:44:31.326Z"
   },
   {
    "duration": 267,
    "start_time": "2023-07-09T19:44:31.667Z"
   },
   {
    "duration": 1113,
    "start_time": "2023-07-09T19:44:31.936Z"
   },
   {
    "duration": 13,
    "start_time": "2023-07-09T19:44:33.054Z"
   },
   {
    "duration": 9,
    "start_time": "2023-07-09T19:44:33.069Z"
   },
   {
    "duration": 225546,
    "start_time": "2023-07-09T19:44:33.079Z"
   },
   {
    "duration": 634895,
    "start_time": "2023-07-09T19:48:18.627Z"
   },
   {
    "duration": 3820,
    "start_time": "2023-07-09T19:58:53.523Z"
   },
   {
    "duration": 5323,
    "start_time": "2023-07-09T19:58:57.344Z"
   },
   {
    "duration": 182,
    "start_time": "2023-07-09T19:59:02.668Z"
   },
   {
    "duration": 48,
    "start_time": "2023-07-09T19:59:02.852Z"
   },
   {
    "duration": 35,
    "start_time": "2023-07-09T19:59:02.901Z"
   },
   {
    "duration": 0,
    "start_time": "2023-07-09T19:59:02.937Z"
   },
   {
    "duration": 0,
    "start_time": "2023-07-09T19:59:02.939Z"
   },
   {
    "duration": 15288,
    "start_time": "2023-07-10T14:49:07.152Z"
   },
   {
    "duration": 1704,
    "start_time": "2023-07-10T14:49:22.443Z"
   },
   {
    "duration": 1850,
    "start_time": "2023-07-10T14:49:24.150Z"
   },
   {
    "duration": 181,
    "start_time": "2023-07-10T14:49:26.002Z"
   },
   {
    "duration": 219,
    "start_time": "2023-07-10T14:49:26.185Z"
   },
   {
    "duration": 2041,
    "start_time": "2023-07-10T14:49:26.407Z"
   },
   {
    "duration": 529,
    "start_time": "2023-07-10T14:49:28.450Z"
   },
   {
    "duration": 1201,
    "start_time": "2023-07-10T14:49:28.981Z"
   },
   {
    "duration": 270,
    "start_time": "2023-07-10T14:49:30.184Z"
   },
   {
    "duration": 22,
    "start_time": "2023-07-10T14:49:30.456Z"
   },
   {
    "duration": 94,
    "start_time": "2023-07-10T14:49:30.480Z"
   },
   {
    "duration": 52,
    "start_time": "2023-07-10T14:49:30.576Z"
   },
   {
    "duration": 75,
    "start_time": "2023-07-10T14:49:30.629Z"
   },
   {
    "duration": 317,
    "start_time": "2023-07-10T14:49:30.708Z"
   },
   {
    "duration": 47,
    "start_time": "2023-07-10T14:49:31.027Z"
   },
   {
    "duration": 92,
    "start_time": "2023-07-10T14:49:31.077Z"
   },
   {
    "duration": 79,
    "start_time": "2023-07-10T14:49:31.172Z"
   },
   {
    "duration": 58,
    "start_time": "2023-07-10T14:49:31.308Z"
   },
   {
    "duration": 1234,
    "start_time": "2023-07-10T14:49:31.408Z"
   },
   {
    "duration": 40,
    "start_time": "2023-07-10T14:49:32.644Z"
   },
   {
    "duration": 289,
    "start_time": "2023-07-10T14:49:32.687Z"
   },
   {
    "duration": 159,
    "start_time": "2023-07-10T14:49:32.978Z"
   },
   {
    "duration": 46,
    "start_time": "2023-07-10T14:49:33.139Z"
   },
   {
    "duration": 60,
    "start_time": "2023-07-10T14:49:33.187Z"
   },
   {
    "duration": 5025,
    "start_time": "2023-07-10T14:49:33.249Z"
   },
   {
    "duration": 302,
    "start_time": "2023-07-10T14:49:38.275Z"
   },
   {
    "duration": 327,
    "start_time": "2023-07-10T14:49:38.579Z"
   },
   {
    "duration": 2042,
    "start_time": "2023-07-10T14:49:38.908Z"
   },
   {
    "duration": 706,
    "start_time": "2023-07-10T14:49:40.952Z"
   },
   {
    "duration": 168,
    "start_time": "2023-07-10T14:49:41.660Z"
   },
   {
    "duration": 842,
    "start_time": "2023-07-10T14:49:41.830Z"
   },
   {
    "duration": 108,
    "start_time": "2023-07-10T14:49:42.675Z"
   },
   {
    "duration": 6,
    "start_time": "2023-07-10T14:49:42.786Z"
   },
   {
    "duration": 371,
    "start_time": "2023-07-10T14:49:42.794Z"
   },
   {
    "duration": 381,
    "start_time": "2023-07-10T14:49:43.167Z"
   },
   {
    "duration": 349,
    "start_time": "2023-07-10T14:49:43.550Z"
   },
   {
    "duration": 373,
    "start_time": "2023-07-10T14:49:43.908Z"
   },
   {
    "duration": 292,
    "start_time": "2023-07-10T14:49:44.283Z"
   },
   {
    "duration": 75,
    "start_time": "2023-07-10T14:49:44.577Z"
   },
   {
    "duration": 75,
    "start_time": "2023-07-10T14:49:44.654Z"
   },
   {
    "duration": 302,
    "start_time": "2023-07-10T14:49:44.733Z"
   },
   {
    "duration": 427,
    "start_time": "2023-07-10T14:49:45.037Z"
   },
   {
    "duration": 636,
    "start_time": "2023-07-10T14:49:45.467Z"
   },
   {
    "duration": 46,
    "start_time": "2023-07-10T14:49:46.108Z"
   },
   {
    "duration": 120,
    "start_time": "2023-07-10T14:49:46.156Z"
   },
   {
    "duration": 439,
    "start_time": "2023-07-10T14:49:46.278Z"
   },
   {
    "duration": 324,
    "start_time": "2023-07-10T14:49:46.719Z"
   },
   {
    "duration": 4,
    "start_time": "2023-07-10T14:49:47.045Z"
   },
   {
    "duration": 2921,
    "start_time": "2023-07-10T14:49:47.051Z"
   },
   {
    "duration": 8,
    "start_time": "2023-07-10T14:49:49.974Z"
   },
   {
    "duration": 34,
    "start_time": "2023-07-10T14:49:49.985Z"
   },
   {
    "duration": 24358,
    "start_time": "2023-07-10T14:49:50.021Z"
   },
   {
    "duration": 51991,
    "start_time": "2023-07-10T14:50:14.382Z"
   },
   {
    "duration": 280444,
    "start_time": "2023-07-10T14:51:06.375Z"
   },
   {
    "duration": 1266080,
    "start_time": "2023-07-10T14:55:46.822Z"
   },
   {
    "duration": 26021,
    "start_time": "2023-07-10T15:16:52.904Z"
   },
   {
    "duration": 63,
    "start_time": "2023-07-10T15:17:18.928Z"
   },
   {
    "duration": 73,
    "start_time": "2023-07-10T15:17:18.993Z"
   },
   {
    "duration": 0,
    "start_time": "2023-07-10T15:17:19.068Z"
   },
   {
    "duration": 0,
    "start_time": "2023-07-10T15:17:19.069Z"
   }
  ],
  "kernelspec": {
   "display_name": "Python 3 (ipykernel)",
   "language": "python",
   "name": "python3"
  },
  "language_info": {
   "codemirror_mode": {
    "name": "ipython",
    "version": 3
   },
   "file_extension": ".py",
   "mimetype": "text/x-python",
   "name": "python",
   "nbconvert_exporter": "python",
   "pygments_lexer": "ipython3",
   "version": "3.9.16"
  },
  "toc": {
   "base_numbering": 1,
   "nav_menu": {
    "height": "211px",
    "width": "277px"
   },
   "number_sections": true,
   "sideBar": true,
   "skip_h1_title": true,
   "title_cell": "Table of Contents",
   "title_sidebar": "Contents",
   "toc_cell": false,
   "toc_position": {
    "height": "calc(100% - 180px)",
    "left": "10px",
    "top": "150px",
    "width": "384px"
   },
   "toc_section_display": true,
   "toc_window_display": true
  },
  "varInspector": {
   "cols": {
    "lenName": 16,
    "lenType": 16,
    "lenVar": 40
   },
   "kernels_config": {
    "python": {
     "delete_cmd_postfix": "",
     "delete_cmd_prefix": "del ",
     "library": "var_list.py",
     "varRefreshCmd": "print(var_dic_list())"
    },
    "r": {
     "delete_cmd_postfix": ") ",
     "delete_cmd_prefix": "rm(",
     "library": "var_list.r",
     "varRefreshCmd": "cat(var_dic_list()) "
    }
   },
   "types_to_exclude": [
    "module",
    "function",
    "builtin_function_or_method",
    "instance",
    "_Feature"
   ],
   "window_display": false
  }
 },
 "nbformat": 4,
 "nbformat_minor": 2
}
